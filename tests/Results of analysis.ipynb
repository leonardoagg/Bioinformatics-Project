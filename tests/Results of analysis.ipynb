{
 "cells": [
  {
   "cell_type": "markdown",
   "id": "0d1b5f04",
   "metadata": {},
   "source": [
    "# Results of analysis"
   ]
  },
  {
   "cell_type": "markdown",
   "id": "39936c07",
   "metadata": {},
   "source": [
    "Reading LiME_Binning output"
   ]
  },
  {
   "cell_type": "code",
   "execution_count": 1,
   "id": "4a42f739",
   "metadata": {},
   "outputs": [],
   "source": [
    "file = \"./all_118309_1+RC.fasta.a16.t20.txt\""
   ]
  },
  {
   "cell_type": "code",
   "execution_count": 9,
   "id": "bd57ab23",
   "metadata": {},
   "outputs": [],
   "source": [
    "f = open(file, \"r\")"
   ]
  },
  {
   "cell_type": "code",
   "execution_count": 10,
   "id": "7a2b34dc",
   "metadata": {},
   "outputs": [
    {
     "name": "stdout",
     "output_type": "stream",
     "text": [
      "number of reads:  118309\n",
      "number of clusters:  28085\n",
      "max set size:  62500\n",
      "max set index:  28084\n",
      "number of non grouped reads:  17444\n",
      "Sizes of ten largest sets:\n",
      "62500\n",
      "8616\n",
      "903\n",
      "215\n",
      "82\n",
      "82\n",
      "80\n",
      "39\n",
      "33\n",
      "33\n"
     ]
    }
   ],
   "source": [
    "l = []\n",
    "for x in f:\n",
    "    l.append(int(x))\n",
    "\n",
    "f.close()\n",
    "print(\"number of reads: \", len(l))\n",
    "\n",
    "max_val = max(l)\n",
    "\n",
    "s = []\n",
    "for x in range(0, max_val+1):\n",
    "    s.append(0)\n",
    "    \n",
    "print(\"number of clusters: \", len(s))\n",
    "\n",
    "for i in range(0, len(l)):\n",
    "    temp = l[i]\n",
    "    s[temp] = s[temp] + 1\n",
    "\n",
    "\n",
    "max_set_size = max(s)\n",
    "\n",
    "max_set = s.index(max_set_size)\n",
    "print(\"max set size: \", max_set_size)\n",
    "print(\"max set index: \", max_set)\n",
    "\n",
    "count=0;\n",
    "for i in range(0, len(s)):\n",
    "    if s[i]==1:\n",
    "        count=count + 1\n",
    "\n",
    "print(\"number of non grouped reads: \", count)\n",
    "\n",
    "sorted_s = s\n",
    "\n",
    "sorted_s.sort(reverse=True)\n",
    "\n",
    "print(\"Sizes of ten largest sets:\")\n",
    "for i in range(0, 10):\n",
    "    print(sorted_s[i])"
   ]
  },
  {
   "cell_type": "code",
   "execution_count": null,
   "id": "afff761e",
   "metadata": {},
   "outputs": [],
   "source": []
  }
 ],
 "metadata": {
  "kernelspec": {
   "display_name": "Python 3",
   "language": "python",
   "name": "python3"
  },
  "language_info": {
   "codemirror_mode": {
    "name": "ipython",
    "version": 3
   },
   "file_extension": ".py",
   "mimetype": "text/x-python",
   "name": "python",
   "nbconvert_exporter": "python",
   "pygments_lexer": "ipython3",
   "version": "3.8.5"
  }
 },
 "nbformat": 4,
 "nbformat_minor": 5
}
