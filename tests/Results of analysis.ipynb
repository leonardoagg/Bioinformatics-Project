{
 "cells": [
  {
   "cell_type": "markdown",
   "metadata": {},
   "source": [
    "# Results of analysis"
   ]
  },
  {
   "cell_type": "markdown",
   "metadata": {},
   "source": [
    "Reading LiME_Binning output"
   ]
  },
  {
   "cell_type": "code",
   "execution_count": 77,
   "metadata": {},
   "outputs": [],
   "source": [
    "#file = \"../../Bio_Project/results/LiME_binning_all_250000_paired/all_250000_1+RC.fasta.a16.t20.txt\"\n",
    "file = \"../../all_250000_1+RC.fasta.a16.t20_2.txt\"\n",
    "file = \"../../all_250000_1+RC.fasta.a16.t20.txt\""
   ]
  },
  {
   "cell_type": "code",
   "execution_count": 78,
   "metadata": {},
   "outputs": [],
   "source": [
    "f = open(file, \"r\")"
   ]
  },
  {
   "cell_type": "code",
   "execution_count": 79,
   "metadata": {},
   "outputs": [
    {
     "name": "stdout",
     "output_type": "stream",
     "text": [
      "number of reads:  3125000\n",
      "number of clusters:  735204\n",
      "max set size:  62921\n",
      "max set index:  540108\n",
      "number of non grouped reads:  305631\n",
      "Sizes of ten largest sets:\n",
      "62921\n",
      "62500\n",
      "62500\n",
      "62500\n",
      "62500\n",
      "62500\n",
      "62500\n",
      "62500\n",
      "62500\n",
      "62500\n"
     ]
    }
   ],
   "source": [
    "l = []\n",
    "for x in f:\n",
    "    l.append(int(x))\n",
    "\n",
    "f.close()\n",
    "print(\"number of reads: \", len(l))\n",
    "\n",
    "max_val = max(l)\n",
    "\n",
    "s = []\n",
    "for x in range(0, max_val+1):\n",
    "    s.append(0)\n",
    "    \n",
    "print(\"number of clusters: \", len(s))\n",
    "\n",
    "for i in range(0, len(l)):\n",
    "    temp = l[i]\n",
    "    s[temp] = s[temp] + 1\n",
    "\n",
    "\n",
    "max_set_size = max(s)\n",
    "\n",
    "max_set = s.index(max_set_size)\n",
    "print(\"max set size: \", max_set_size)\n",
    "print(\"max set index: \", max_set)\n",
    "\n",
    "count=0;\n",
    "for i in range(0, len(s)):\n",
    "    if s[i]==1:\n",
    "        count=count + 1\n",
    "\n",
    "print(\"number of non grouped reads: \", count)\n",
    "\n",
    "sorted_s = s\n",
    "\n",
    "sorted_s.sort(reverse=True)\n",
    "\n",
    "print(\"Sizes of ten largest sets:\")\n",
    "for i in range(0, 10):\n",
    "    print(sorted_s[i])"
   ]
  },
  {
   "cell_type": "code",
   "execution_count": 80,
   "metadata": {},
   "outputs": [
    {
     "name": "stdout",
     "output_type": "stream",
     "text": [
      "len cluster dict:  735204\n"
     ]
    }
   ],
   "source": [
    "cluster_dict = {}\n",
    "\n",
    "for cluster in l:\n",
    "    \n",
    "    if cluster in cluster_dict.keys():\n",
    "        cluster_dict[cluster] = cluster_dict[cluster] + 1 \n",
    "    \n",
    "    else:\n",
    "        cluster_dict[cluster] = 1\n",
    "\n",
    "print(\"len cluster dict: \", len(cluster_dict))\n",
    "\n",
    "sorted_tuples = sorted(cluster_dict.items(), key=lambda item: item[1], reverse = True)\n",
    "\n",
    "sorted_dict = {k: v for k, v in sorted_tuples}"
   ]
  },
  {
   "cell_type": "code",
   "execution_count": 81,
   "metadata": {},
   "outputs": [
    {
     "name": "stdout",
     "output_type": "stream",
     "text": [
      "[[540108, 62921], [735195, 62500], [735196, 62500], [735197, 62500], [735198, 62500], [735199, 62500], [735200, 62500], [735201, 62500], [735202, 62500], [735203, 62500], [19, 32022], [232398, 11933], [571274, 7826], [44341, 4965], [155032, 4894], [346732, 1558], [18303, 1265], [236472, 1100], [139082, 899], [571417, 730], [630918, 683]]\n"
     ]
    }
   ],
   "source": [
    "k = 20 \n",
    "\n",
    "top_k_cluster = []\n",
    "\n",
    "i = 0\n",
    "for cluster, cardinality in sorted_dict.items():\n",
    "    \n",
    "    if i <= k:\n",
    "        top_k_cluster.append([cluster, cardinality])\n",
    "    \n",
    "    else:\n",
    "        break\n",
    "        \n",
    "    i = i + 1\n",
    "    \n",
    "print(top_k_cluster)"
   ]
  },
  {
   "cell_type": "code",
   "execution_count": 82,
   "metadata": {},
   "outputs": [],
   "source": [
    "import matplotlib.pyplot as plt\n",
    "\n",
    "def plotALot(cluster_to_show,threshold):\n",
    "\n",
    "    x = []\n",
    "    y = []\n",
    "\n",
    "    for i in range(len(cluster_to_show)):\n",
    "        x.append(str(cluster_to_show[i][0]))\n",
    "        y.append(cluster_to_show[i][1])\n",
    "\n",
    "\n",
    "    plt.figure(figsize=(15,10))\n",
    "    width = 0.4\n",
    "    plt.bar(x,y,width=width,color='lightblue',label='Total elements in the cluster')\n",
    "\n",
    "    plt.xlabel('Cluster',fontsize=14)\n",
    "    plt.ylabel('Number of reads',fontsize=14)\n",
    "    plt.legend(loc='upper right')\n",
    "    plt.title('Top clusters which cover '+str(threshold)+'% of the total',fontweight='bold',fontsize=20)"
   ]
  },
  {
   "cell_type": "markdown",
   "metadata": {},
   "source": [
    "## GRAFICO UNO"
   ]
  },
  {
   "cell_type": "code",
   "execution_count": 76,
   "metadata": {},
   "outputs": [
    {
     "name": "stdout",
     "output_type": "stream",
     "text": [
      "len of cluster_to_show list:  9\n",
      "cluster_to_show list:\n",
      "[[10, 1314601], [64619, 62500], [64620, 62500], [64621, 62500], [64622, 62500], [64623, 62500], [64624, 62500], [64625, 62500], [64626, 62500]]\n"
     ]
    },
    {
     "data": {
      "image/png": "[encoded data removed]",
      "text/plain": [
       "<Figure size 1080x720 with 1 Axes>"
      ]
     },
     "metadata": {
      "needs_background": "light"
     },
     "output_type": "display_data"
    }
   ],
   "source": [
    "tot_reads = len(l) # number of read clustered\n",
    "read = 0 # read counter\n",
    "threshold = 60 # percentage threshold  \n",
    "\n",
    "cluster_to_show = [] # list of [cluster, cardinality] pairs \n",
    "\n",
    "for cluster, cardinality in sorted_dict.items():\n",
    "    \n",
    "    read = read + cardinality\n",
    "    \n",
    "    if read / tot_reads * 100 <= threshold:\n",
    "        cluster_to_show.append([cluster, cardinality])\n",
    "        \n",
    "    else:\n",
    "        break\n",
    "\n",
    "print(\"len of cluster_to_show list: \", len(cluster_to_show))\n",
    "print(\"cluster_to_show list:\")\n",
    "print(cluster_to_show)\n",
    "\n",
    "plotALot(cluster_to_show,threshold)\n",
    "\n",
    "#in this way I can show clusters which cover the \"threshold\" part of the entire reads."
   ]
  },
  {
   "cell_type": "markdown",
   "metadata": {},
   "source": [
    "## GRAFICO DUE"
   ]
  },
  {
   "cell_type": "code",
   "execution_count": 84,
   "metadata": {},
   "outputs": [
    {
     "name": "stdout",
     "output_type": "stream",
     "text": [
      "len of cluster_to_show list:  15\n",
      "cluster_to_show list:\n",
      "[[540108, 62921], [735195, 62500], [735196, 62500], [735197, 62500], [735198, 62500], [735199, 62500], [735200, 62500], [735201, 62500], [735202, 62500], [735203, 62500], [19, 32022], [232398, 11933], [571274, 7826], [44341, 4965], [155032, 4894]]\n"
     ]
    },
    {
     "data": {
      "image/png": "[encoded data removed]",
      "text/plain": [
       "<Figure size 1080x720 with 1 Axes>"
      ]
     },
     "metadata": {
      "needs_background": "light"
     },
     "output_type": "display_data"
    }
   ],
   "source": [
    "tot_reads = len(l) # number of read clustered\n",
    "read = 0 # read counter\n",
    "threshold = 22 # percentage threshold  \n",
    "\n",
    "cluster_to_show = [] # list of [cluster, cardinality] pairs \n",
    "\n",
    "for cluster, cardinality in sorted_dict.items():\n",
    "    \n",
    "    read = read + cardinality\n",
    "    \n",
    "    if read / tot_reads * 100 <= threshold:\n",
    "        cluster_to_show.append([cluster, cardinality])\n",
    "        \n",
    "    else:\n",
    "        break\n",
    "\n",
    "print(\"len of cluster_to_show list: \", len(cluster_to_show))\n",
    "print(\"cluster_to_show list:\")\n",
    "print(cluster_to_show)\n",
    "\n",
    "plotALot(cluster_to_show,threshold)\n",
    "\n",
    "#in this way I can show clusters which cover the \"threshold\" part of the entire reads."
   ]
  },
  {
   "cell_type": "code",
   "execution_count": null,
   "metadata": {},
   "outputs": [],
   "source": []
  }
 ],
 "metadata": {
  "kernelspec": {
   "display_name": "Python 3",
   "language": "python",
   "name": "python3"
  },
  "language_info": {
   "codemirror_mode": {
    "name": "ipython",
    "version": 3
   },
   "file_extension": ".py",
   "mimetype": "text/x-python",
   "name": "python",
   "nbconvert_exporter": "python",
   "pygments_lexer": "ipython3",
   "version": "3.7.6"
  }
 },
 "nbformat": 4,
 "nbformat_minor": 5
}
