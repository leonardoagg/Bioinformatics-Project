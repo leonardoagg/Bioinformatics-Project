{
 "cells": [
  {
   "cell_type": "markdown",
   "metadata": {},
   "source": [
    "# Results of analysis"
   ]
  },
  {
   "cell_type": "markdown",
   "metadata": {},
   "source": [
    "Reading LiME_Binning output"
   ]
  },
  {
   "cell_type": "code",
   "execution_count": 19,
   "metadata": {},
   "outputs": [],
   "source": [
    "#file = \"../../../LiME_binning/all_250000_1+RC.fasta.a16.t25.txt\"\n",
    "#file = \"../../../Bio_Project/results/LiME_binning_all_250000_1/all_250000_1+RC.fasta.a16.t20.txt\"\n",
    "file = \"../../../Bio_Project/results/LiME_binning_all_250000_paired/all_250000_1+RC.fasta.a16.t20.txt\"\n",
    "\n",
    "Paired = True\n",
    "\n",
    "if Paired:\n",
    "    threshold = 60\n",
    "    \n",
    "else:\n",
    "    threshold = 20"
   ]
  },
  {
   "cell_type": "code",
   "execution_count": 20,
   "metadata": {},
   "outputs": [],
   "source": [
    "f = open(file, \"r\")"
   ]
  },
  {
   "cell_type": "code",
   "execution_count": 21,
   "metadata": {},
   "outputs": [
    {
     "name": "stdout",
     "output_type": "stream",
     "text": [
      "number of reads:  3125000\n",
      "number of clusters:  64628\n",
      "max set size:  1314601\n",
      "max set index:  10\n",
      "number of non grouped reads:  12485\n",
      "Sizes of ten largest sets:\n",
      "1314601\n",
      "62500\n",
      "62500\n",
      "62500\n",
      "62500\n",
      "62500\n",
      "62500\n",
      "62500\n",
      "62500\n",
      "62500\n"
     ]
    }
   ],
   "source": [
    "l = []\n",
    "for x in f:\n",
    "    l.append(int(x))\n",
    "\n",
    "f.close()\n",
    "print(\"number of reads: \", len(l))\n",
    "\n",
    "max_val = max(l)\n",
    "\n",
    "s = []\n",
    "for x in range(0, max_val+1):\n",
    "    s.append(0)\n",
    "    \n",
    "print(\"number of clusters: \", len(s))\n",
    "\n",
    "for i in range(0, len(l)):\n",
    "    temp = l[i]\n",
    "    s[temp] = s[temp] + 1\n",
    "\n",
    "\n",
    "max_set_size = max(s)\n",
    "\n",
    "max_set = s.index(max_set_size)\n",
    "print(\"max set size: \", max_set_size)\n",
    "print(\"max set index: \", max_set)\n",
    "\n",
    "count=0;\n",
    "for i in range(0, len(s)):\n",
    "    if s[i]==1:\n",
    "        count=count + 1\n",
    "\n",
    "print(\"number of non grouped reads: \", count)\n",
    "\n",
    "sorted_s = s\n",
    "\n",
    "sorted_s.sort(reverse=True)\n",
    "\n",
    "print(\"Sizes of ten largest sets:\")\n",
    "for i in range(0, 10):\n",
    "    print(sorted_s[i])"
   ]
  },
  {
   "cell_type": "code",
   "execution_count": 22,
   "metadata": {},
   "outputs": [
    {
     "name": "stdout",
     "output_type": "stream",
     "text": [
      "len cluster dict:  64628\n"
     ]
    }
   ],
   "source": [
    "cluster_dict = {}\n",
    "\n",
    "for cluster in l:\n",
    "    \n",
    "    if cluster in cluster_dict.keys():\n",
    "        cluster_dict[cluster] = cluster_dict[cluster] + 1 \n",
    "    \n",
    "    else:\n",
    "        cluster_dict[cluster] = 1\n",
    "\n",
    "print(\"len cluster dict: \", len(cluster_dict))\n",
    "\n",
    "sorted_tuples = sorted(cluster_dict.items(), key=lambda item: item[1], reverse = True)\n",
    "\n",
    "sorted_dict = {k: v for k, v in sorted_tuples}"
   ]
  },
  {
   "cell_type": "code",
   "execution_count": 23,
   "metadata": {},
   "outputs": [
    {
     "name": "stdout",
     "output_type": "stream",
     "text": [
      "[[10, 1314601], [64619, 62500], [64620, 62500], [64621, 62500], [64622, 62500], [64623, 62500], [64624, 62500], [64625, 62500], [64626, 62500], [64627, 62500], [29308, 30329], [29271, 2339], [29190, 1981], [36160, 1899], [4224, 1862], [36634, 1720], [59224, 1529], [59218, 1497], [49136, 1493], [4225, 1432], [1502, 1399]]\n"
     ]
    }
   ],
   "source": [
    "k = 20 \n",
    "\n",
    "top_k_cluster = []\n",
    "\n",
    "i = 0\n",
    "for cluster, cardinality in sorted_dict.items():\n",
    "    \n",
    "    if i <= k:\n",
    "        top_k_cluster.append([cluster, cardinality])\n",
    "    \n",
    "    else:\n",
    "        break\n",
    "        \n",
    "    i = i + 1\n",
    "    \n",
    "print(top_k_cluster)"
   ]
  },
  {
   "cell_type": "code",
   "execution_count": 24,
   "metadata": {},
   "outputs": [],
   "source": [
    "import matplotlib.pyplot as plt\n",
    "\n",
    "def plotALot(cluster_to_show,threshold):\n",
    "\n",
    "    x = []\n",
    "    y = []\n",
    "\n",
    "    for i in range(len(cluster_to_show)):\n",
    "        x.append(str(cluster_to_show[i][0]))\n",
    "        y.append(cluster_to_show[i][1])\n",
    "\n",
    "\n",
    "    plt.figure(figsize=(15,10))\n",
    "    width = 0.4\n",
    "    plt.bar(x,y,width=width,color='lightblue',label='Total elements in the cluster')\n",
    "\n",
    "    plt.xlabel('Cluster',fontsize=14)\n",
    "    plt.ylabel('Number of reads',fontsize=14)\n",
    "    plt.legend(loc='upper right')\n",
    "    plt.title('Top clusters which cover '+str(threshold)+'% of the total',fontweight='bold',fontsize=20)"
   ]
  },
  {
   "cell_type": "code",
   "execution_count": 25,
   "metadata": {},
   "outputs": [
    {
     "name": "stdout",
     "output_type": "stream",
     "text": [
      "len of cluster_to_show list:  9\n",
      "cluster_to_show list:\n",
      "[[10, 1314601], [64619, 62500], [64620, 62500], [64621, 62500], [64622, 62500], [64623, 62500], [64624, 62500], [64625, 62500], [64626, 62500]]\n"
     ]
    },
    {
     "data": {
      "image/png": "[encoded data removed]",
      "text/plain": [
       "<Figure size 1080x720 with 1 Axes>"
      ]
     },
     "metadata": {
      "needs_background": "light"
     },
     "output_type": "display_data"
    }
   ],
   "source": [
    "tot_reads = len(l) # number of read clustered\n",
    "read = 0 # read counter \n",
    "\n",
    "cluster_to_show = [] # list of [cluster, cardinality] pairs \n",
    "\n",
    "for cluster, cardinality in sorted_dict.items():\n",
    "    \n",
    "    read = read + cardinality\n",
    "    \n",
    "    if read / tot_reads * 100 <= threshold:\n",
    "        cluster_to_show.append([cluster, cardinality])\n",
    "        \n",
    "    else:\n",
    "        break\n",
    "\n",
    "print(\"len of cluster_to_show list: \", len(cluster_to_show))\n",
    "print(\"cluster_to_show list:\")\n",
    "print(cluster_to_show)\n",
    "\n",
    "plotALot(cluster_to_show,threshold)\n",
    "\n",
    "#in this way I can show clusters which cover the \"threshold\" part of the entire reads."
   ]
  },
  {
   "cell_type": "code",
   "execution_count": 26,
   "metadata": {},
   "outputs": [],
   "source": [
    "import csv\n",
    "\n",
    "with open('clustering.csv', 'w', newline='') as csvfile:\n",
    "    fieldnames = ['cluster_index', 'cardinality']\n",
    "    writer = csv.DictWriter(csvfile, fieldnames=fieldnames)\n",
    "    writer.writeheader()\n",
    "    for cluster, cardinality in cluster_dict.items():\n",
    "        writer.writerow({'cluster_index': cluster, 'cardinality': cardinality})"
   ]
  },
  {
   "cell_type": "code",
   "execution_count": 27,
   "metadata": {},
   "outputs": [],
   "source": [
    "import pandas as pd\n",
    "import numpy as np"
   ]
  },
  {
   "cell_type": "code",
   "execution_count": 28,
   "metadata": {},
   "outputs": [
    {
     "data": {
      "text/html": [
       "<div>\n",
       "<style scoped>\n",
       "    .dataframe tbody tr th:only-of-type {\n",
       "        vertical-align: middle;\n",
       "    }\n",
       "\n",
       "    .dataframe tbody tr th {\n",
       "        vertical-align: top;\n",
       "    }\n",
       "\n",
       "    .dataframe thead th {\n",
       "        text-align: right;\n",
       "    }\n",
       "</style>\n",
       "<table border=\"1\" class=\"dataframe\">\n",
       "  <thead>\n",
       "    <tr style=\"text-align: right;\">\n",
       "      <th></th>\n",
       "      <th>cluster_index</th>\n",
       "      <th>cardinality</th>\n",
       "    </tr>\n",
       "  </thead>\n",
       "  <tbody>\n",
       "    <tr>\n",
       "      <th>0</th>\n",
       "      <td>0</td>\n",
       "      <td>17</td>\n",
       "    </tr>\n",
       "    <tr>\n",
       "      <th>1</th>\n",
       "      <td>1</td>\n",
       "      <td>4</td>\n",
       "    </tr>\n",
       "    <tr>\n",
       "      <th>2</th>\n",
       "      <td>2</td>\n",
       "      <td>35</td>\n",
       "    </tr>\n",
       "    <tr>\n",
       "      <th>3</th>\n",
       "      <td>3</td>\n",
       "      <td>17</td>\n",
       "    </tr>\n",
       "    <tr>\n",
       "      <th>4</th>\n",
       "      <td>4</td>\n",
       "      <td>29</td>\n",
       "    </tr>\n",
       "    <tr>\n",
       "      <th>...</th>\n",
       "      <td>...</td>\n",
       "      <td>...</td>\n",
       "    </tr>\n",
       "    <tr>\n",
       "      <th>64622</th>\n",
       "      <td>64622</td>\n",
       "      <td>62500</td>\n",
       "    </tr>\n",
       "    <tr>\n",
       "      <th>64623</th>\n",
       "      <td>64623</td>\n",
       "      <td>62500</td>\n",
       "    </tr>\n",
       "    <tr>\n",
       "      <th>64624</th>\n",
       "      <td>64624</td>\n",
       "      <td>62500</td>\n",
       "    </tr>\n",
       "    <tr>\n",
       "      <th>64625</th>\n",
       "      <td>64625</td>\n",
       "      <td>62500</td>\n",
       "    </tr>\n",
       "    <tr>\n",
       "      <th>64626</th>\n",
       "      <td>64626</td>\n",
       "      <td>62500</td>\n",
       "    </tr>\n",
       "  </tbody>\n",
       "</table>\n",
       "<p>64627 rows × 2 columns</p>\n",
       "</div>"
      ],
      "text/plain": [
       "       cluster_index  cardinality\n",
       "0                  0           17\n",
       "1                  1            4\n",
       "2                  2           35\n",
       "3                  3           17\n",
       "4                  4           29\n",
       "...              ...          ...\n",
       "64622          64622        62500\n",
       "64623          64623        62500\n",
       "64624          64624        62500\n",
       "64625          64625        62500\n",
       "64626          64626        62500\n",
       "\n",
       "[64627 rows x 2 columns]"
      ]
     },
     "execution_count": 28,
     "metadata": {},
     "output_type": "execute_result"
    }
   ],
   "source": [
    "# Read in data and examine first 10 rows\n",
    "clustering = pd.read_csv('clustering.csv')\n",
    "clustering.head(max_val)"
   ]
  },
  {
   "cell_type": "code",
   "execution_count": 30,
   "metadata": {},
   "outputs": [
    {
     "data": {
      "text/plain": [
       "Text(0, 0.5, 'cardinality')"
      ]
     },
     "execution_count": 30,
     "metadata": {},
     "output_type": "execute_result"
    },
    {
     "data": {
      "image/png": "[encoded data removed]",
      "text/plain": [
       "<Figure size 1800x720 with 1 Axes>"
      ]
     },
     "metadata": {
      "needs_background": "light"
     },
     "output_type": "display_data"
    }
   ],
   "source": [
    "plt.figure(figsize=(25, 10))\n",
    "plt.plot(clustering['cardinality'], color = 'red')\n",
    "plt.title(\"Reads Distribution Among Clusters\", fontsize = 30)\n",
    "plt.xlabel(\"cluster index\", fontsize = 15)\n",
    "plt.ylabel(\"cardinality\", fontsize = 15)"
   ]
  }
 ],
 "metadata": {
  "kernelspec": {
   "display_name": "Python 3",
   "language": "python",
   "name": "python3"
  },
  "language_info": {
   "codemirror_mode": {
    "name": "ipython",
    "version": 3
   },
   "file_extension": ".py",
   "mimetype": "text/x-python",
   "name": "python",
   "nbconvert_exporter": "python",
   "pygments_lexer": "ipython3",
   "version": "3.7.7"
  }
 },
 "nbformat": 4,
 "nbformat_minor": 5
}
