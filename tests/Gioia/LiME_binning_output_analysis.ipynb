{
 "cells": [
  {
   "cell_type": "markdown",
   "metadata": {},
   "source": [
    "# Results of analysis"
   ]
  },
  {
   "cell_type": "markdown",
   "metadata": {},
   "source": [
    "Reading LiME_Binning output"
   ]
  },
  {
   "cell_type": "code",
   "execution_count": 13,
   "metadata": {},
   "outputs": [],
   "source": [
    "#file = \"../../../LiME_binning results/paired/all_250000_1+RC.fasta.a16.t25.txt\"\n",
    "#file = \"../../../LiME_binning results/paired/all_250000_1+RC.fasta.a16.t20.txt\"\n",
    "#file = \"../../../LiME_binning results/single/all_250000_2+RC.fasta.a16.t20.txt\"\n",
    "#file = \"../../../LiME_binning results/single/all_250000_1+RC.fasta.a16.t25.txt\"\n",
    "#file = \"../../../LiME_binning results/paired/all_250000_1+RC.fasta.a16.t40.txt\"\n",
    "file = \"../../../LiME_binning results/paired/all_250000_1+RC.fasta.a22.t40.txt\"\n",
    "\n",
    "##LEO\n",
    "file = \"../../../all_250000_1+RC.fasta.a30.t40.txt\"\n",
    "Paired = True\n",
    "\n",
    "if Paired:\n",
    "    threshold = 40\n",
    "    \n",
    "else:\n",
    "    threshold = 20"
   ]
  },
  {
   "cell_type": "code",
   "execution_count": 14,
   "metadata": {},
   "outputs": [],
   "source": [
    "f = open(file, \"r\")"
   ]
  },
  {
   "cell_type": "code",
   "execution_count": 15,
   "metadata": {},
   "outputs": [
    {
     "name": "stdout",
     "output_type": "stream",
     "text": [
      "number of reads:  3125000\n",
      "number of clusters:  361316\n",
      "max set size:  318142\n",
      "max set index:  430\n",
      "number of non grouped reads:  170884\n",
      "Sizes of ten largest sets:\n",
      "318142\n",
      "62500\n",
      "62499\n",
      "62499\n",
      "62498\n",
      "62497\n",
      "62497\n",
      "62497\n",
      "62495\n",
      "62493\n"
     ]
    }
   ],
   "source": [
    "l = []\n",
    "for x in f:\n",
    "    l.append(int(x))\n",
    "\n",
    "f.close()\n",
    "print(\"number of reads: \", len(l))\n",
    "\n",
    "max_val = max(l)\n",
    "\n",
    "s = []\n",
    "for x in range(0, max_val+1):\n",
    "    s.append(0)\n",
    "    \n",
    "print(\"number of clusters: \", len(s))\n",
    "\n",
    "for i in range(0, len(l)):\n",
    "    temp = l[i]\n",
    "    s[temp] = s[temp] + 1\n",
    "\n",
    "\n",
    "max_set_size = max(s)\n",
    "\n",
    "max_set = s.index(max_set_size)\n",
    "print(\"max set size: \", max_set_size)\n",
    "print(\"max set index: \", max_set)\n",
    "\n",
    "count=0;\n",
    "for i in range(0, len(s)):\n",
    "    if s[i]==1:\n",
    "        count=count + 1\n",
    "\n",
    "print(\"number of non grouped reads: \", count)\n",
    "\n",
    "sorted_s = s\n",
    "\n",
    "sorted_s.sort(reverse=True)\n",
    "\n",
    "print(\"Sizes of ten largest sets:\")\n",
    "for i in range(0, 10):\n",
    "    print(sorted_s[i])"
   ]
  },
  {
   "cell_type": "code",
   "execution_count": 16,
   "metadata": {},
   "outputs": [
    {
     "name": "stdout",
     "output_type": "stream",
     "text": [
      "len cluster dict:  361316\n"
     ]
    }
   ],
   "source": [
    "cluster_dict = {}\n",
    "\n",
    "for cluster in l:\n",
    "    \n",
    "    if cluster in cluster_dict.keys():\n",
    "        cluster_dict[cluster] = cluster_dict[cluster] + 1 \n",
    "    \n",
    "    else:\n",
    "        cluster_dict[cluster] = 1\n",
    "\n",
    "print(\"len cluster dict: \", len(cluster_dict))\n",
    "\n",
    "sorted_tuples = sorted(cluster_dict.items(), key=lambda item: item[1], reverse = True)\n",
    "\n",
    "sorted_dict = {k: v for k, v in sorted_tuples}"
   ]
  },
  {
   "cell_type": "code",
   "execution_count": 17,
   "metadata": {},
   "outputs": [
    {
     "name": "stdout",
     "output_type": "stream",
     "text": [
      "[[430, 318142], [361304, 62500], [361271, 62499], [361299, 62499], [361301, 62498], [361279, 62497], [361283, 62497], [361287, 62497], [361273, 62495], [361291, 62493], [361305, 62490], [127770, 32647], [127343, 20390], [123201, 13533], [95149, 10772], [123198, 9402], [127635, 8830], [123203, 7319], [127633, 6836], [163419, 6510], [123202, 6402]]\n"
     ]
    }
   ],
   "source": [
    "k = 20 \n",
    "\n",
    "top_k_cluster = []\n",
    "\n",
    "i = 0\n",
    "for cluster, cardinality in sorted_dict.items():\n",
    "    \n",
    "    if i <= k:\n",
    "        top_k_cluster.append([cluster, cardinality])\n",
    "    \n",
    "    else:\n",
    "        break\n",
    "        \n",
    "    i = i + 1\n",
    "    \n",
    "print(top_k_cluster)"
   ]
  },
  {
   "cell_type": "code",
   "execution_count": 18,
   "metadata": {},
   "outputs": [
    {
     "name": "stdout",
     "output_type": "stream",
     "text": [
      "['430', '361304', '361271', '361299', '361301', '361279', '361283', '361287', '361273', '361291', '361305', '127770', '127343', '123201', '95149', '123198', '127635', '123203', '127633', '163419']\n",
      "[318142, 62500, 62499, 62499, 62498, 62497, 62497, 62497, 62495, 62493, 62490, 32647, 20390, 13533, 10772, 9402, 8830, 7319, 6836, 6510]\n"
     ]
    },
    {
     "data": {
      "image/png": "[encoded data removed]",
      "text/plain": [
       "<Figure size 1080x720 with 1 Axes>"
      ]
     },
     "metadata": {
      "needs_background": "light"
     },
     "output_type": "display_data"
    }
   ],
   "source": [
    "import matplotlib.pyplot as plt\n",
    "\n",
    "top_k_cluster_index = []\n",
    "top_k_cluster_cardinality = []\n",
    "\n",
    "for i in range(0, k):\n",
    "    top_k_cluster_index.append(str(top_k_cluster[i][0]))\n",
    "    top_k_cluster_cardinality.append(top_k_cluster[i][1])\n",
    "\n",
    "print(top_k_cluster_index)\n",
    "print(top_k_cluster_cardinality)\n",
    "\n",
    "plt.figure(figsize=(15,10))\n",
    "width = 0.4\n",
    "\n",
    "plt.bar(top_k_cluster_index, top_k_cluster_cardinality, width = width, color='gold', label='Top clusters')\n",
    "\n",
    "plt.xlabel('Cluster index', fontsize = 14)\n",
    "plt.ylabel('Cardinality',fontsize = 14)\n",
    "plt.title('Top '+str(k)+' clusters', fontweight='bold', fontsize=20)\n",
    "\n",
    "# save the figure\n",
    "plt.savefig('Top_k_cluster.png', dpi=300, bbox_inches='tight')\n",
    "\n",
    "plt.show()"
   ]
  },
  {
   "cell_type": "code",
   "execution_count": 19,
   "metadata": {},
   "outputs": [],
   "source": [
    "def plotALot(cluster_to_show,threshold):\n",
    "\n",
    "    x = []\n",
    "    y = []\n",
    "\n",
    "    for i in range(len(cluster_to_show)):\n",
    "        x.append(str(cluster_to_show[i][0]))\n",
    "        y.append(cluster_to_show[i][1])\n",
    "\n",
    "\n",
    "    plt.figure(figsize=(15,10))\n",
    "    width = 0.4\n",
    "    plt.bar(x,y,width=width,color='lightblue',label='Total elements in the cluster')\n",
    "    plt.xlabel('Cluster',fontsize=14)\n",
    "    plt.ylabel('Number of reads',fontsize=14)\n",
    "    plt.legend(loc='upper right')\n",
    "    plt.title('Top clusters which cover '+str(threshold)+'% of the total',fontweight='bold',fontsize=20)"
   ]
  },
  {
   "cell_type": "code",
   "execution_count": 20,
   "metadata": {},
   "outputs": [
    {
     "name": "stdout",
     "output_type": "stream",
     "text": [
      "len of cluster_to_show list:  141\n",
      "cluster_to_show list:\n",
      "[[430, 318142], [361304, 62500], [361271, 62499], [361299, 62499], [361301, 62498], [361279, 62497], [361283, 62497], [361287, 62497], [361273, 62495], [361291, 62493], [361305, 62490], [127770, 32647], [127343, 20390], [123201, 13533], [95149, 10772], [123198, 9402], [127635, 8830], [123203, 7319], [127633, 6836], [163419, 6510], [123202, 6402], [94060, 6021], [123200, 5394], [127348, 4289], [178576, 4177], [163424, 4078], [123204, 4056], [178586, 3836], [178584, 3660], [178583, 3172], [163835, 3144], [20846, 2988], [20854, 2979], [20881, 2925], [127358, 2645], [20850, 2633], [163445, 2472], [123199, 2321], [20843, 2298], [127342, 2269], [195665, 2214], [163416, 2187], [179160, 2176], [123384, 2122], [123205, 2089], [163447, 2082], [127353, 2069], [178635, 1971], [163414, 1924], [127356, 1888], [178593, 1875], [178575, 1716], [195687, 1640], [127347, 1565], [195688, 1550], [127349, 1546], [163430, 1545], [195714, 1515], [178599, 1447], [195670, 1442], [20851, 1420], [127355, 1389], [195669, 1373], [195648, 1352], [195658, 1274], [127352, 1269], [20886, 1264], [195690, 1261], [163422, 1259], [195682, 1259], [195701, 1252], [178642, 1238], [20882, 1229], [20839, 1200], [127354, 1188], [178634, 1166], [127341, 1151], [163417, 1133], [178577, 1131], [195644, 1130], [20841, 1125], [123207, 1120], [20842, 1117], [195643, 1116], [163438, 1104], [92353, 1098], [127345, 1091], [163415, 1089], [195664, 1072], [127357, 1068], [20893, 1047], [163427, 1045], [163443, 1031], [20849, 1028], [127339, 1022], [20876, 1021], [178621, 1021], [178609, 995], [163858, 994], [178590, 989], [178623, 982], [20844, 976], [163444, 974], [178620, 968], [163435, 966], [163857, 958], [163437, 951], [235511, 929], [195645, 916], [341957, 916], [178592, 911], [195740, 908], [163420, 904], [20883, 901], [178641, 897], [178657, 896], [195675, 892], [20927, 887], [163434, 874], [235637, 869], [127359, 868], [163425, 866], [20861, 865], [341752, 862], [87963, 855], [235543, 845], [20913, 841], [163431, 841], [92355, 833], [127364, 830], [235509, 820], [88329, 818], [20858, 811], [127346, 809], [21536, 808], [195660, 797], [20869, 795], [163459, 792], [178611, 792], [20862, 789], [20895, 775]]\n"
     ]
    },
    {
     "data": {
      "image/png": "[encoded data removed]",
      "text/plain": [
       "<Figure size 1080x720 with 1 Axes>"
      ]
     },
     "metadata": {
      "needs_background": "light"
     },
     "output_type": "display_data"
    }
   ],
   "source": [
    "tot_reads = len(l) # number of read clustered\n",
    "read = 0 # read counter \n",
    "\n",
    "cluster_to_show = [] # list of [cluster, cardinality] pairs \n",
    "\n",
    "for cluster, cardinality in sorted_dict.items():\n",
    "    \n",
    "    read = read + cardinality\n",
    "    \n",
    "    if read / tot_reads * 100 <= threshold:\n",
    "        cluster_to_show.append([cluster, cardinality])\n",
    "        \n",
    "    else:\n",
    "        break\n",
    "\n",
    "print(\"len of cluster_to_show list: \", len(cluster_to_show))\n",
    "print(\"cluster_to_show list:\")\n",
    "print(cluster_to_show)\n",
    "\n",
    "plotALot(cluster_to_show, threshold)\n",
    "\n",
    "#in this way I can show clusters which cover the \"threshold\" part of the entire reads."
   ]
  },
  {
   "cell_type": "code",
   "execution_count": 21,
   "metadata": {},
   "outputs": [],
   "source": [
    "import csv\n",
    "\n",
    "with open('clustering.csv', 'w', newline='') as csvfile:\n",
    "    fieldnames = ['cluster_index', 'cardinality']\n",
    "    writer = csv.DictWriter(csvfile, fieldnames=fieldnames)\n",
    "    writer.writeheader()\n",
    "    for cluster, cardinality in cluster_dict.items():\n",
    "        writer.writerow({'cluster_index': cluster, 'cardinality': cardinality})"
   ]
  },
  {
   "cell_type": "code",
   "execution_count": 22,
   "metadata": {},
   "outputs": [
    {
     "ename": "AttributeError",
     "evalue": "module 'pandas' has no attribute 'compat'",
     "output_type": "error",
     "traceback": [
      "\u001b[0;31m---------------------------------------------------------------------------\u001b[0m",
      "\u001b[0;31mAttributeError\u001b[0m                            Traceback (most recent call last)",
      "\u001b[0;32m<ipython-input-22-baf368f80de7>\u001b[0m in \u001b[0;36m<module>\u001b[0;34m\u001b[0m\n\u001b[0;32m----> 1\u001b[0;31m \u001b[0;32mimport\u001b[0m \u001b[0mpandas\u001b[0m \u001b[0;32mas\u001b[0m \u001b[0mpd\u001b[0m\u001b[0;34m\u001b[0m\u001b[0;34m\u001b[0m\u001b[0m\n\u001b[0m\u001b[1;32m      2\u001b[0m \u001b[0;32mimport\u001b[0m \u001b[0mnumpy\u001b[0m \u001b[0;32mas\u001b[0m \u001b[0mnp\u001b[0m\u001b[0;34m\u001b[0m\u001b[0;34m\u001b[0m\u001b[0m\n",
      "\u001b[0;32m~/opt/anaconda3/lib/python3.7/site-packages/pandas/__init__.py\u001b[0m in \u001b[0;36m<module>\u001b[0;34m\u001b[0m\n\u001b[1;32m    190\u001b[0m \u001b[0;31m# GH 27101\u001b[0m\u001b[0;34m\u001b[0m\u001b[0;34m\u001b[0m\u001b[0;34m\u001b[0m\u001b[0m\n\u001b[1;32m    191\u001b[0m \u001b[0;31m# TODO: remove Panel compat in 1.0\u001b[0m\u001b[0;34m\u001b[0m\u001b[0;34m\u001b[0m\u001b[0;34m\u001b[0m\u001b[0m\n\u001b[0;32m--> 192\u001b[0;31m \u001b[0;32mif\u001b[0m \u001b[0mpandas\u001b[0m\u001b[0;34m.\u001b[0m\u001b[0mcompat\u001b[0m\u001b[0;34m.\u001b[0m\u001b[0mPY37\u001b[0m\u001b[0;34m:\u001b[0m\u001b[0;34m\u001b[0m\u001b[0;34m\u001b[0m\u001b[0m\n\u001b[0m\u001b[1;32m    193\u001b[0m \u001b[0;34m\u001b[0m\u001b[0m\n\u001b[1;32m    194\u001b[0m     \u001b[0;32mdef\u001b[0m \u001b[0m__getattr__\u001b[0m\u001b[0;34m(\u001b[0m\u001b[0mname\u001b[0m\u001b[0;34m)\u001b[0m\u001b[0;34m:\u001b[0m\u001b[0;34m\u001b[0m\u001b[0;34m\u001b[0m\u001b[0m\n",
      "\u001b[0;31mAttributeError\u001b[0m: module 'pandas' has no attribute 'compat'"
     ]
    }
   ],
   "source": [
    "import pandas as pd\n",
    "import numpy as np"
   ]
  },
  {
   "cell_type": "code",
   "execution_count": null,
   "metadata": {},
   "outputs": [],
   "source": [
    "single20 = pd.read_csv('single20clustering.csv')\n",
    "\n",
    "single25 = pd.read_csv('single25clustering.csv')\n",
    "\n",
    "paired20 = pd.read_csv('paired20clustering.csv')\n",
    "\n",
    "paired25 = pd.read_csv('paired25clustering.csv')\n",
    "\n",
    "paired40 = pd.read_csv('paired40clustering.csv')\n",
    "\n",
    "paired2240 = pd.read_csv('paired2240clustering.csv')"
   ]
  },
  {
   "cell_type": "code",
   "execution_count": 23,
   "metadata": {},
   "outputs": [
    {
     "ename": "NameError",
     "evalue": "name 'paired40' is not defined",
     "output_type": "error",
     "traceback": [
      "\u001b[0;31m---------------------------------------------------------------------------\u001b[0m",
      "\u001b[0;31mNameError\u001b[0m                                 Traceback (most recent call last)",
      "\u001b[0;32m<ipython-input-23-6861a74ac07a>\u001b[0m in \u001b[0;36m<module>\u001b[0;34m\u001b[0m\n\u001b[1;32m      4\u001b[0m \u001b[0;31m#plt.plot(paired20['cardinality'], color = 'green')\u001b[0m\u001b[0;34m\u001b[0m\u001b[0;34m\u001b[0m\u001b[0;34m\u001b[0m\u001b[0m\n\u001b[1;32m      5\u001b[0m \u001b[0;31m#plt.plot(paired25['cardinality'], color = 'yellow')\u001b[0m\u001b[0;34m\u001b[0m\u001b[0;34m\u001b[0m\u001b[0;34m\u001b[0m\u001b[0m\n\u001b[0;32m----> 6\u001b[0;31m \u001b[0mplt\u001b[0m\u001b[0;34m.\u001b[0m\u001b[0mplot\u001b[0m\u001b[0;34m(\u001b[0m\u001b[0mpaired40\u001b[0m\u001b[0;34m[\u001b[0m\u001b[0;34m'cardinality'\u001b[0m\u001b[0;34m]\u001b[0m\u001b[0;34m,\u001b[0m \u001b[0mcolor\u001b[0m \u001b[0;34m=\u001b[0m \u001b[0;34m'purple'\u001b[0m\u001b[0;34m)\u001b[0m\u001b[0;34m\u001b[0m\u001b[0;34m\u001b[0m\u001b[0m\n\u001b[0m\u001b[1;32m      7\u001b[0m \u001b[0mplt\u001b[0m\u001b[0;34m.\u001b[0m\u001b[0mplot\u001b[0m\u001b[0;34m(\u001b[0m\u001b[0mpaired2240\u001b[0m\u001b[0;34m[\u001b[0m\u001b[0;34m'cardinality'\u001b[0m\u001b[0;34m]\u001b[0m\u001b[0;34m,\u001b[0m \u001b[0mcolor\u001b[0m \u001b[0;34m=\u001b[0m \u001b[0;34m'darkblue'\u001b[0m\u001b[0;34m)\u001b[0m\u001b[0;34m\u001b[0m\u001b[0;34m\u001b[0m\u001b[0m\n\u001b[1;32m      8\u001b[0m \u001b[0;34m\u001b[0m\u001b[0m\n",
      "\u001b[0;31mNameError\u001b[0m: name 'paired40' is not defined"
     ]
    },
    {
     "data": {
      "text/plain": [
       "<Figure size 1800x720 with 0 Axes>"
      ]
     },
     "metadata": {},
     "output_type": "display_data"
    }
   ],
   "source": [
    "plt.figure(figsize=(25, 10))\n",
    "#plt.plot(single20['cardinality'], color = 'red')\n",
    "#plt.plot(single25['cardinality'], color = 'blue')\n",
    "#plt.plot(paired20['cardinality'], color = 'green')\n",
    "#plt.plot(paired25['cardinality'], color = 'yellow')\n",
    "plt.plot(paired40['cardinality'], color = 'purple')\n",
    "plt.plot(paired2240['cardinality'], color = 'darkblue')\n",
    "\n",
    "plt.title(\"Reads Distribution Among Clusters\", fontsize = 30)\n",
    "plt.xlabel(\"cluster index\", fontsize = 15)\n",
    "plt.ylabel(\"cardinality\", fontsize = 15)"
   ]
  },
  {
   "cell_type": "code",
   "execution_count": 24,
   "metadata": {},
   "outputs": [
    {
     "ename": "NameError",
     "evalue": "name 'paired2240' is not defined",
     "output_type": "error",
     "traceback": [
      "\u001b[0;31m---------------------------------------------------------------------------\u001b[0m",
      "\u001b[0;31mNameError\u001b[0m                                 Traceback (most recent call last)",
      "\u001b[0;32m<ipython-input-24-26e0f3507547>\u001b[0m in \u001b[0;36m<module>\u001b[0;34m\u001b[0m\n\u001b[1;32m      5\u001b[0m \u001b[0;31m#plt.plot(paired25['cardinality'], color = 'yellow')\u001b[0m\u001b[0;34m\u001b[0m\u001b[0;34m\u001b[0m\u001b[0;34m\u001b[0m\u001b[0m\n\u001b[1;32m      6\u001b[0m \u001b[0;31m#plt.plot(paired40['cardinality'], color = 'purple')\u001b[0m\u001b[0;34m\u001b[0m\u001b[0;34m\u001b[0m\u001b[0;34m\u001b[0m\u001b[0m\n\u001b[0;32m----> 7\u001b[0;31m \u001b[0mplt\u001b[0m\u001b[0;34m.\u001b[0m\u001b[0mplot\u001b[0m\u001b[0;34m(\u001b[0m\u001b[0mpaired2240\u001b[0m\u001b[0;34m[\u001b[0m\u001b[0;34m'cardinality'\u001b[0m\u001b[0;34m]\u001b[0m\u001b[0;34m,\u001b[0m \u001b[0mcolor\u001b[0m \u001b[0;34m=\u001b[0m \u001b[0;34m'darkblue'\u001b[0m\u001b[0;34m)\u001b[0m\u001b[0;34m\u001b[0m\u001b[0;34m\u001b[0m\u001b[0m\n\u001b[0m\u001b[1;32m      8\u001b[0m \u001b[0;34m\u001b[0m\u001b[0m\n\u001b[1;32m      9\u001b[0m \u001b[0mplt\u001b[0m\u001b[0;34m.\u001b[0m\u001b[0myscale\u001b[0m\u001b[0;34m(\u001b[0m\u001b[0;34m'log'\u001b[0m\u001b[0;34m)\u001b[0m\u001b[0;34m\u001b[0m\u001b[0;34m\u001b[0m\u001b[0m\n",
      "\u001b[0;31mNameError\u001b[0m: name 'paired2240' is not defined"
     ]
    },
    {
     "data": {
      "text/plain": [
       "<Figure size 1800x720 with 0 Axes>"
      ]
     },
     "metadata": {},
     "output_type": "display_data"
    }
   ],
   "source": [
    "plt.figure(figsize=(25, 10))\n",
    "#plt.plot(single20['cardinality'], color = 'red')\n",
    "#plt.plot(single25['cardinality'], color = 'blue')\n",
    "#plt.plot(paired20['cardinality'], color = 'green')\n",
    "#plt.plot(paired25['cardinality'], color = 'yellow')\n",
    "#plt.plot(paired40['cardinality'], color = 'purple')\n",
    "plt.plot(paired2240['cardinality'], color = 'darkblue')\n",
    "\n",
    "plt.yscale('log')\n",
    "plt.title(\"Reads Distribution Among Clusters\", fontsize = 30)\n",
    "plt.xlabel(\"cluster index\", fontsize = 15)\n",
    "plt.ylabel(\"cardinality\", fontsize = 15)\n",
    "\n"
   ]
  },
  {
   "cell_type": "code",
   "execution_count": null,
   "metadata": {},
   "outputs": [],
   "source": []
  }
 ],
 "metadata": {
  "kernelspec": {
   "display_name": "Python 3",
   "language": "python",
   "name": "python3"
  },
  "language_info": {
   "codemirror_mode": {
    "name": "ipython",
    "version": 3
   },
   "file_extension": ".py",
   "mimetype": "text/x-python",
   "name": "python",
   "nbconvert_exporter": "python",
   "pygments_lexer": "ipython3",
   "version": "3.7.6"
  }
 },
 "nbformat": 4,
 "nbformat_minor": 5
}
