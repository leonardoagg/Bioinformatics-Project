{
 "cells": [
  {
   "cell_type": "code",
   "execution_count": 115,
   "metadata": {},
   "outputs": [],
   "source": [
    "import time\n",
    "from random import seed\n",
    "from random import randint"
   ]
  },
  {
   "cell_type": "markdown",
   "metadata": {},
   "source": [
    "## Effectiveness\n",
    "Given LiME_binning clustering and the classification output, the goal of this notebook is assessing in what extent our procedure of reassignment (Total and/or Partial) can be effective.\n"
   ]
  },
  {
   "cell_type": "code",
   "execution_count": 116,
   "metadata": {},
   "outputs": [],
   "source": [
    "# all_250000 dataset\n",
    "classifier_path_centrifuge = \"../../../Bio_Project/SimDataset/classifiers_results/strex_centrifuge_250000.res\"\n",
    "classifier_path_kraken1 = \"../../../Bio_Project/SimDataset/classifiers_results/strex_kraken1_250000.res\"\n",
    "classifier_path_kraken2 = \"../../../Bio_Project/SimDataset/classifiers_results/strex_kraken2_250000.res\"\n",
    "classifier_path_clark_species = \"../../../Bio_Project/SimDataset/classifiers_results/strex_clark_species_250000.res\"\n",
    "classifier_path_clark_genus = \"../../../Bio_Project/SimDataset/classifiers_results/strex_clark_genus_250000.res\""
   ]
  },
  {
   "cell_type": "code",
   "execution_count": 117,
   "metadata": {},
   "outputs": [],
   "source": [
    "def load_classifier_result(path):\n",
    "\n",
    "    classification = open(path, 'r')\n",
    "    classifier_results = {}\n",
    "\n",
    "    for line in classification:\n",
    "        col = []\n",
    "        for j in range(0, len(line.split())):\n",
    "            col.append(line.split()[j])\n",
    "        \n",
    "        classifier_results[col[0]] = col[1]\n",
    "\n",
    "    classification.close()\n",
    "\n",
    "    return classifier_results "
   ]
  },
  {
   "cell_type": "code",
   "execution_count": 118,
   "metadata": {},
   "outputs": [],
   "source": [
    "# load the provided classifiers outputs\n",
    "centrifuge = load_classifier_result(classifier_path_centrifuge)\n",
    "kraken1 = load_classifier_result(classifier_path_kraken1)\n",
    "kraken2 = load_classifier_result(classifier_path_kraken2)\n",
    "clark_species = load_classifier_result(classifier_path_clark_species)\n",
    "clark_genus = load_classifier_result(classifier_path_clark_genus)"
   ]
  },
  {
   "cell_type": "code",
   "execution_count": 119,
   "metadata": {},
   "outputs": [],
   "source": [
    "dataset_path = \"../../../Bio_Project/SimDataset/reads_datasets/all_250000_1.fq\"\n",
    "\n",
    "#clusters_path = \"../../../LiME_binning results/paired/all_250000_1+RC.fasta.a16.t25.txt\"\n",
    "#clusters_path = \"../../../LiME_binning results/paired/all_250000_1+RC.fasta.a16.t20.txt\"\n",
    "#clusters_path = \"../../../LiME_binning results/single/all_250000_1+RC.fasta.a16.t20.txt\"\n",
    "#clusters_path = \"../../../LiME_binning results/single/all_250000_2+RC.fasta.a16.t20.txt\"\n",
    "#clusters_path = \"../../../LiME_binning results/single/all_250000_1+RC.fasta.a16.t25.txt\"\n",
    "#clusters_path = \"../../../LiME_binning results/paired/all_250000_1+RC.fasta.a16.t40.txt\"\n",
    "clusters_path = \"../../../LiME_binning results/paired/all_250000_1+RC.fasta.a22.t40.txt\""
   ]
  },
  {
   "cell_type": "code",
   "execution_count": 120,
   "metadata": {},
   "outputs": [],
   "source": [
    "def load_dataset(path, datset_format : bool):\n",
    "\n",
    "    dataset = open(path, \"r\")\n",
    "    dataset_lines = []\n",
    "\n",
    "    if (datset_format):\n",
    "        divisor = 2\n",
    "    else:\n",
    "        divisor = 4\n",
    "\n",
    "    index = 0\n",
    "    for line in dataset:\n",
    "        if (index%divisor==0):\n",
    "            read_id = line.split()[0]\n",
    "            dataset_lines.append(read_id[1: len(read_id)-2])\n",
    "        index = index + 1\n",
    "\n",
    "    dataset.close()\n",
    "\n",
    "    return dataset_lines"
   ]
  },
  {
   "cell_type": "code",
   "execution_count": 121,
   "metadata": {},
   "outputs": [],
   "source": [
    "def load_clusters_result(path):\n",
    "\n",
    "    clusters = open(path, \"r\")\n",
    "    clusters_list = []\n",
    "\n",
    "    for group in clusters:\n",
    "        clusters_list.append(int(group))\n",
    "\n",
    "    clusters.close()\n",
    "\n",
    "    return clusters_list"
   ]
  },
  {
   "cell_type": "code",
   "execution_count": 122,
   "metadata": {},
   "outputs": [],
   "source": [
    "dataset = load_dataset(dataset_path, False)\n",
    "clustering = load_clusters_result(clusters_path) "
   ]
  },
  {
   "cell_type": "code",
   "execution_count": 123,
   "metadata": {},
   "outputs": [],
   "source": [
    "# clustering is a list of cluster index, one for each read of the dataset\n",
    "# dataset is a list of read\n",
    "# return a dict of (cluster, list of reads belonging to the cluster) pairs\n",
    "def clustering_dict(clustering, dataset):\n",
    "    \n",
    "    clustering_dict = {}\n",
    "    \n",
    "    for line in range(len(dataset)):\n",
    "        \n",
    "        if clustering[line] not in clustering_dict.keys():\n",
    "            \n",
    "            clustering_dict[clustering[line]] = []\n",
    "            clustering_dict[clustering[line]].append(dataset[line])\n",
    "            \n",
    "        else:\n",
    "            \n",
    "            clustering_dict[clustering[line]].append(dataset[line])\n",
    "\n",
    "        \n",
    "    return clustering_dict"
   ]
  },
  {
   "cell_type": "code",
   "execution_count": 124,
   "metadata": {},
   "outputs": [],
   "source": [
    "# clustering_dict is a dictionary of (cluster, list of reads belonging to the cluster) pairs\n",
    "# classifier is a dict of (read, label) pairs\n",
    "# return a dictionary of (cluster, list of labels of the reads beloging to the cluster) pairs\n",
    "def label_clustering(clustering_dict, classifier):\n",
    "    \n",
    "    label_clustering_dict = {}\n",
    "    \n",
    "    for cluster, read_list in clustering_dict.items():\n",
    "        \n",
    "        label_clustering_dict[cluster] = []\n",
    "        \n",
    "        for read in read_list:\n",
    "            \n",
    "            if read in classifier.keys():\n",
    "                \n",
    "                label_clustering_dict[cluster].append(classifier[read])\n",
    "                \n",
    "            else:\n",
    "                \n",
    "                label_clustering_dict[cluster].append('0')\n",
    "    \n",
    "    return label_clustering_dict"
   ]
  },
  {
   "cell_type": "code",
   "execution_count": 125,
   "metadata": {},
   "outputs": [],
   "source": [
    "# label_clustering is a dictionary of (cluster, list of labels of the reads beloging to the cluster) pairs\n",
    "# return a list of [cluster, cardinality] pairs such that alle labels in cluster are equal to '0' and cardinality is the number of labels (or equivalently reads) in the cluster\n",
    "def patological_cluster(label_clustering):\n",
    "    \n",
    "    patological_cluster_list = []\n",
    "    \n",
    "    for cluster, label_list in label_clustering.items():\n",
    "        \n",
    "        patological = True # boolean to inform wheter the cluster in examination is patological or not\n",
    "\n",
    "        for label in label_list:\n",
    "            \n",
    "            if label != '0': # found one element different from zero in the cluster in examination --> the cluster is not patological                  \n",
    "                patological = False\n",
    "                break\n",
    "        \n",
    "        if patological:\n",
    "            patological_cluster_list.append([cluster, len(label_list)])\n",
    "    \n",
    "    \n",
    "    return patological_cluster_list"
   ]
  },
  {
   "cell_type": "code",
   "execution_count": 126,
   "metadata": {},
   "outputs": [],
   "source": [
    "def number_patological_read(patological_cluster_list):\n",
    "    \n",
    "    number_patological_read = 0\n",
    "    \n",
    "    for cluster in patological_cluster_list:\n",
    "        number_patological_read = number_patological_read + cluster[1]\n",
    "    \n",
    "    return number_patological_read"
   ]
  },
  {
   "cell_type": "code",
   "execution_count": 127,
   "metadata": {},
   "outputs": [
    {
     "name": "stdout",
     "output_type": "stream",
     "text": [
      "Percentage of patological clusters:  7.494697709887281 %\n",
      "Percentage of patological reads:  1.5535999999999999 %\n"
     ]
    }
   ],
   "source": [
    "# get cluster dict\n",
    "cluster_dict = clustering_dict(clustering, dataset)\n",
    "\n",
    "# get cluster label dict\n",
    "## HERE YOU HAVE TO INSERT THE CLASSIFIER YOU WANT TO TEST!!!!\n",
    "cluster_label_dict = label_clustering(cluster_dict, clark_genus)\n",
    "\n",
    "# get patological clusters\n",
    "patological_cluster_list = patological_cluster(cluster_label_dict)\n",
    "# print percentage of patological clusters (must be smaller than number of patological reads of course)\n",
    "print(\"Percentage of patological clusters: \", len(patological_cluster_list)/len(cluster_dict)*100, \"%\")\n",
    "\n",
    "# get number of patological reads\n",
    "num_patological_read = number_patological_read(patological_cluster_list)\n",
    "print(\"Percentage of patological reads: \", num_patological_read/len(dataset)*100, \"%\")"
   ]
  },
  {
   "cell_type": "code",
   "execution_count": 128,
   "metadata": {},
   "outputs": [],
   "source": [
    "# dict --> (class, occurences)\n",
    "def frequency_search(cluster):\n",
    "    \n",
    "    label_dict = {}\n",
    "\n",
    "    for label in cluster:\n",
    "\n",
    "        if label in list(label_dict):\n",
    "            label_dict[label] = label_dict[label] + 1\n",
    "            \n",
    "        else:\n",
    "            # if it does not exist, it's automatically created\n",
    "            label_dict[label] = 1\n",
    "\n",
    "    return label_dict"
   ]
  },
  {
   "cell_type": "code",
   "execution_count": 129,
   "metadata": {},
   "outputs": [],
   "source": [
    "# It takes in input a dictionary that contains {label: frequency} pairs.\n",
    "# Returns a pair {label: frequency} with maximal frequency.\n",
    "# Ties broken randomly.\n",
    "def get_max_label(label_dict): \n",
    "    \n",
    "    seed(1)\n",
    "    ties = False\n",
    "    zero_ties = False\n",
    "    \n",
    "    candidates = [] # list of max label candidates\n",
    "    \n",
    "    max_frequency = 0\n",
    "    \n",
    "    for label, frequency in label_dict.items(): # find max frequency\n",
    "        \n",
    "        if frequency > max_frequency:\n",
    "            max_frequency = frequency\n",
    "    \n",
    "    for label, frequency in label_dict.items(): # find labels with frequency equals to max frequency\n",
    "        \n",
    "        if frequency == max_frequency:\n",
    "            candidates.append(label)\n",
    "    \n",
    "    # check if ties occur\n",
    "    if len(candidates) > 1:\n",
    "        # check if ties occur and '0' is a potencial candidate to become the max label of the cluster\n",
    "        if '0' in candidates:\n",
    "            zero_ties = True\n",
    "        \n",
    "        ties = True\n",
    "\n",
    "    value = randint(0, len(candidates) - 1)  # choose randomly the label with max frequency if there are multiple candidate labels\n",
    "\n",
    "    max_label = candidates[value]\n",
    "         \n",
    "    return [max_label, max_frequency, ties, zero_ties]"
   ]
  },
  {
   "cell_type": "code",
   "execution_count": 130,
   "metadata": {},
   "outputs": [],
   "source": [
    "max_label_per_cluster_list = []\n",
    "\n",
    "num_ties = 0\n",
    "num_zero_ties = 0\n",
    "\n",
    "for cluster, label_list in cluster_label_dict.items():\n",
    "\n",
    "        # return a dictionary with {label: frequency} pairs that appear in the examinated cluster\n",
    "        lab_dict = frequency_search(label_list)\n",
    "        \n",
    "        max_label = get_max_label(lab_dict)\n",
    "\n",
    "        # check if a tie happen\n",
    "        if max_label[2]:\n",
    "            # check if it is a zero tie\n",
    "            if max_label[3]: \n",
    "                num_zero_ties = num_zero_ties + 1\n",
    "            \n",
    "            num_ties = num_ties + 1\n",
    "    \n",
    "        # append the quartet [cluster, max label, max frequency, number of total reads in the cluster]\n",
    "        max_label_per_cluster_list.append([cluster, max_label[0], max_label[1], len(label_list)])"
   ]
  },
  {
   "cell_type": "code",
   "execution_count": 131,
   "metadata": {},
   "outputs": [
    {
     "name": "stdout",
     "output_type": "stream",
     "text": [
      "Percentage of clusters with ties in max label:  1.0242356361556608 %\n",
      "Percentage of clusters with ties in max label with '0' as candidate with respect to clusters with ties:  89.25081433224756 %\n",
      "Percentage of clusters with ties in max label with '0' as candidate:  0.9141386459500036 %\n"
     ]
    }
   ],
   "source": [
    "print(\"Percentage of clusters with ties in max label: \", num_ties/len(cluster_dict)*100, \"%\")\n",
    "print(\"Percentage of clusters with ties in max label with '0' as candidate with respect to clusters with ties: \", num_zero_ties/num_ties*100, \"%\")\n",
    "print(\"Percentage of clusters with ties in max label with '0' as candidate: \", num_zero_ties/len(cluster_dict)*100, \"%\")"
   ]
  },
  {
   "cell_type": "code",
   "execution_count": 132,
   "metadata": {},
   "outputs": [
    {
     "name": "stdout",
     "output_type": "stream",
     "text": [
      "num_zero_read:  312389\n",
      "majority_zero_clusters:  4476\n",
      "num_non_zero_read:  53163\n"
     ]
    }
   ],
   "source": [
    "majority_zero_clusters = 0 # number of clusters where the most frequent label zero is zero and then if we apply the total reassignment all reads will be labelled with class '0'\n",
    "                           # NOTE THAT I don't take in account patological clusters but only those that contain at least one read with label different from '0'\n",
    "num_zero_read = 0 # overall number of reads classified with '0' label among this clusters\n",
    "num_non_zero_read = 0 # overall number of reads that will be labelled with label '0' but that were classified with a label different from '0' before TOTAL reassignment\n",
    "\n",
    "patological_cluster_list_no_length = []\n",
    "\n",
    "for element in patological_cluster_list:\n",
    "    patological_cluster_list_no_length.append(element[0])\n",
    "    \n",
    "for element in max_label_per_cluster_list:\n",
    "    \n",
    "    if element[1] == '0' and element[0] not in patological_cluster_list_no_length:\n",
    "        \n",
    "        majority_zero_clusters = majority_zero_clusters + 1 \n",
    "        num_zero_read = num_zero_read + element[2]\n",
    "        num_non_zero_read = num_non_zero_read + element[3] - element[2]\n",
    "\n",
    "        # for debugging\n",
    "        if element[3] == element[2]:\n",
    "            print(\"The code doesn't work properly: PATOLOGICAL clusters are being considering!!\")\n",
    "\n",
    "print(\"num_zero_read: \", num_zero_read)\n",
    "print(\"majority_zero_clusters: \", majority_zero_clusters)\n",
    "print(\"num_non_zero_read: \" , num_non_zero_read)"
   ]
  },
  {
   "cell_type": "code",
   "execution_count": 133,
   "metadata": {},
   "outputs": [
    {
     "name": "stdout",
     "output_type": "stream",
     "text": [
      "Number of reads with label zero after TOTAL alignment procedure:  414102\n",
      "Number of reads with label zero after PARTIAL alignment procedure:  360939\n",
      "Difference in non labelled reads between TOTAL and PARTIAL :  53163\n"
     ]
    }
   ],
   "source": [
    "# number of reads with label zero after TOTAL reassignmentt procedure\n",
    "non_lab_read_tot = num_non_zero_read + num_patological_read + num_zero_read\n",
    "print(\"Number of reads with label zero after TOTAL alignment procedure: \", non_lab_read_tot)\n",
    "\n",
    "# number of reads with label zero after PARTIAL reassignment procedure\n",
    "non_lab_read_par = num_zero_read + num_patological_read\n",
    "print(\"Number of reads with label zero after PARTIAL alignment procedure: \", non_lab_read_par)\n",
    "\n",
    "# difference in labelled reads\n",
    "print(\"Difference in non labelled reads between TOTAL and PARTIAL : \", non_lab_read_tot - non_lab_read_par )"
   ]
  },
  {
   "cell_type": "markdown",
   "metadata": {},
   "source": [
    "### Graph about Clusters"
   ]
  },
  {
   "cell_type": "code",
   "execution_count": 134,
   "metadata": {},
   "outputs": [],
   "source": [
    "## cluster_dict is a dict of {cluster : [read_ids]} \n",
    "## cluster_label_dict id a dict of {cluster : [labels]}\n",
    "## max_label_per_cluster_list is a list of quartet [cluster_index, max_label, max_frequency, cluster length]"
   ]
  },
  {
   "cell_type": "code",
   "execution_count": 135,
   "metadata": {},
   "outputs": [],
   "source": [
    "import matplotlib.pyplot as plt\n",
    "import pandas as pd\n",
    "import numpy as np"
   ]
  },
  {
   "cell_type": "code",
   "execution_count": 136,
   "metadata": {},
   "outputs": [],
   "source": [
    "cluster_cardinality = {}\n",
    "\n",
    "for cluster, read_list in cluster_dict.items():\n",
    "    \n",
    "    cluster_cardinality[cluster] = len(read_list)\n",
    "\n",
    "sorted_tuples = sorted(cluster_cardinality.items(), key=lambda item: item[1], reverse = True)\n",
    "\n",
    "sorted_dict = {k: v for k, v in sorted_tuples}"
   ]
  },
  {
   "cell_type": "code",
   "execution_count": 137,
   "metadata": {},
   "outputs": [
    {
     "name": "stdout",
     "output_type": "stream",
     "text": [
      "{425: 627607, 209805: 62500, 209806: 62500, 209807: 62500, 209808: 62500, 209809: 62500, 209810: 62500, 209811: 62500, 209812: 62500, 209813: 62500, 209814: 62500, 79235: 24314, 80471: 21788, 13731: 21477, 102420: 10245, 80496: 8844, 80467: 5808, 13733: 5460, 13728: 5396, 60266: 5387, 80470: 5215}\n"
     ]
    }
   ],
   "source": [
    "k = 20 \n",
    "\n",
    "top_k_cluster = {}\n",
    "\n",
    "i = 0\n",
    "for cluster, cardinality in sorted_dict.items():\n",
    "    \n",
    "    if i <= k:\n",
    "        \n",
    "        top_k_cluster[cluster] = cardinality\n",
    "    \n",
    "    else:\n",
    "        break\n",
    "        \n",
    "    i = i + 1\n",
    "    \n",
    "print(top_k_cluster)"
   ]
  },
  {
   "cell_type": "code",
   "execution_count": 138,
   "metadata": {},
   "outputs": [
    {
     "name": "stdout",
     "output_type": "stream",
     "text": [
      "[425, '2093', 62501, 627607, False]\n",
      "[13728, '2184', 5363, 5396, False]\n",
      "[13731, '2184', 16912, 21477, False]\n",
      "[13733, '2184', 4565, 5460, False]\n",
      "[60266, '29521', 4980, 5387, False]\n",
      "[79235, '810', 24314, 24314, False]\n",
      "[80467, '64895', 5808, 5808, False]\n",
      "[80470, '64895', 5215, 5215, False]\n",
      "[80471, '64895', 21275, 21788, False]\n",
      "[80496, '157', 8844, 8844, False]\n",
      "[102420, '270', 8759, 10245, False]\n",
      "[209805, '0', 62494, 62500, True]\n",
      "[209806, '0', 57815, 62500, True]\n",
      "[209807, '0', 36346, 62500, True]\n",
      "[209808, '153135', 47399, 62500, False]\n",
      "[209809, '10806', 36720, 62500, False]\n",
      "[209810, '1623295', 62363, 62500, False]\n",
      "[209811, '0', 57332, 62500, True]\n",
      "[209812, '10803', 44741, 62500, False]\n",
      "[209813, '10437', 42871, 62500, False]\n",
      "[209814, '0', 61984, 62500, True]\n"
     ]
    }
   ],
   "source": [
    "top_cluster_info = []\n",
    "\n",
    "for cluster, label_list in cluster_label_dict.items():\n",
    "    \n",
    "    if cluster in top_k_cluster.keys():\n",
    "        \n",
    "        # return a dictionary with {label: frequency} pairs that appear in the examinated cluster\n",
    "        lab_dict = frequency_search(label_list)\n",
    "        \n",
    "        max_label = get_max_label(lab_dict)\n",
    "        \n",
    "        if max_label[0] == '0':\n",
    "        \n",
    "            top_cluster_info.append([cluster, max_label[0], max_label[1], len(label_list), True])\n",
    "        \n",
    "        else:\n",
    "            \n",
    "            top_cluster_info.append([cluster, max_label[0], max_label[1], len(label_list), False])\n",
    "\n",
    "for element in top_cluster_info:\n",
    "    \n",
    "    print(element)"
   ]
  },
  {
   "cell_type": "code",
   "execution_count": 139,
   "metadata": {},
   "outputs": [
    {
     "name": "stdout",
     "output_type": "stream",
     "text": [
      "['425', '13728', '13731', '13733', '60266', '79235', '80467', '80470', '80471', '80496', '102420', '209805', '209806', '209807', '209808', '209809', '209810', '209811', '209812', '209813']\n",
      "['2093', '2184', '2184', '2184', '29521', '810', '64895', '64895', '64895', '157', '270', '0', '0', '0', '153135', '10806', '1623295', '0', '10803', '10437']\n",
      "[62501, 5363, 16912, 4565, 4980, 24314, 5808, 5215, 21275, 8844, 8759, 62494, 57815, 36346, 47399, 36720, 62363, 57332, 44741, 42871]\n",
      "[627607, 5396, 21477, 5460, 5387, 24314, 5808, 5215, 21788, 8844, 10245, 62500, 62500, 62500, 62500, 62500, 62500, 62500, 62500, 62500]\n",
      "[0, 0, 0, 0, 0, 0, 0, 0, 0, 0, 0, 62494, 57815, 36346, 0, 0, 0, 57332, 0, 0]\n"
     ]
    }
   ],
   "source": [
    "clusters = []\n",
    "max_labels = []\n",
    "max_frequency = []\n",
    "cluster_length = []\n",
    "zero_cluster = []\n",
    "\n",
    "for i in range(0, k):\n",
    "    clusters.append(str(top_cluster_info[i][0]))\n",
    "    max_labels.append(top_cluster_info[i][1])\n",
    "    max_frequency.append(top_cluster_info[i][2])\n",
    "    cluster_length.append(top_cluster_info[i][3])\n",
    "    \n",
    "    if top_cluster_info[i][4]:\n",
    "        zero_cluster.append(top_cluster_info[i][2])\n",
    "    \n",
    "    else:\n",
    "        zero_cluster.append(0)\n",
    "        \n",
    "print(clusters)\n",
    "print(max_labels)\n",
    "print(max_frequency)\n",
    "print(cluster_length)\n",
    "print(zero_cluster)"
   ]
  },
  {
   "cell_type": "code",
   "execution_count": 140,
   "metadata": {},
   "outputs": [
    {
     "data": {
      "image/png": "[encoded data removed]",
      "text/plain": [
       "<Figure size 1440x720 with 1 Axes>"
      ]
     },
     "metadata": {
      "needs_background": "light"
     },
     "output_type": "display_data"
    }
   ],
   "source": [
    "width = 0.50      # the width of the bars: can also be len(x) sequence\n",
    "\n",
    "fig, ax = plt.subplots()\n",
    "\n",
    "ax.bar(clusters, cluster_length, width, label='Cluster Cardinality', color='palegreen')\n",
    "ax.bar(clusters, max_frequency, width, label='Max Label Cardinality', color='darkturquoise')\n",
    "ax.bar(clusters, zero_cluster, width, label='Max Label Cardinality where Max Label = \\'0\\'', color='forestgreen')\n",
    "\n",
    "plt.ylim(0, max(cluster_length) + 50000)\n",
    "plt.yticks(np.arange(0, max(cluster_length), 100000))\n",
    "\n",
    "fig.set_size_inches(20, 10)\n",
    "\n",
    "ax.set_ylabel('number of reads', fontsize = 14)\n",
    "ax.set_xlabel('cluster index', fontsize = 14)\n",
    "ax.set_title('Top ' + str(k) + ' Clusters', fontsize = 20)\n",
    "ax.legend(fontsize = 14)\n",
    "\n",
    "plt.show()"
   ]
  },
  {
   "cell_type": "code",
   "execution_count": 141,
   "metadata": {},
   "outputs": [],
   "source": [
    "num_cluster = len(cluster_dict)\n",
    "patological_cluster = len(patological_cluster_list)\n",
    "num_read = len(dataset)\n",
    "classifier = \"Clark_genus\" # change this parameter based on the examinated classifier\n",
    "patological_read = num_patological_read\n",
    "zero_cluster = majority_zero_clusters\n",
    "zero_read= num_zero_read\n",
    "non_zero_read = num_non_zero_read\n",
    "ties = num_ties\n",
    "zero_ties = num_zero_ties"
   ]
  },
  {
   "cell_type": "code",
   "execution_count": 142,
   "metadata": {},
   "outputs": [],
   "source": [
    "import csv\n",
    "\n",
    "outfile = classifier + '_effectiveness.csv'\n",
    "with open(outfile, 'w', newline='') as file:\n",
    "    writer = csv.writer(file)\n",
    "    writer.writerow([\"Parameter\", \"Value\"])\n",
    "    writer.writerow([\"classifier\", classifier])\n",
    "    writer.writerow([\"num_cluster\", num_cluster])\n",
    "    writer.writerow([\"patological_cluster\", patological_cluster])\n",
    "    writer.writerow([\"num_reads\", num_read])\n",
    "    writer.writerow([\"patological_read\", patological_read])\n",
    "    writer.writerow([\"zero_cluster\", zero_cluster])\n",
    "    writer.writerow([\"zero_reads\", zero_read])\n",
    "    writer.writerow([\"non_zero_read\", non_zero_read])\n",
    "    writer.writerow([\"ties\", ties])\n",
    "    writer.writerow([\"zero_ties\", zero_ties])"
   ]
  }
 ],
 "metadata": {
  "kernelspec": {
   "display_name": "Python 3",
   "language": "python",
   "name": "python3"
  },
  "language_info": {
   "codemirror_mode": {
    "name": "ipython",
    "version": 3
   },
   "file_extension": ".py",
   "mimetype": "text/x-python",
   "name": "python",
   "nbconvert_exporter": "python",
   "pygments_lexer": "ipython3",
   "version": "3.7.7"
  }
 },
 "nbformat": 4,
 "nbformat_minor": 4
}
