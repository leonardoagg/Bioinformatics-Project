{
 "cells": [
  {
   "cell_type": "code",
   "execution_count": 5,
   "metadata": {},
   "outputs": [],
   "source": [
    "import time"
   ]
  },
  {
   "cell_type": "markdown",
   "metadata": {},
   "source": [
    "# Not Classified Analysis"
   ]
  },
  {
   "cell_type": "markdown",
   "metadata": {},
   "source": [
    "The goal of this notebook is analyzing and plotting the difference in the number of labelled reads between the outputs of different classifiers.\n",
    "In particular, we WON'T FOCUS ON PRECISION but only on the number of classified reads, on the reads that are not classified by all the examinated classifiers and those that are labelled by only one or some classifiers and not by others and so on. So, we want to plot the consistency between the different outputs of the classifiers and understand if our reassignment procedure is meaningfull or not."
   ]
  },
  {
   "cell_type": "markdown",
   "metadata": {},
   "source": [
    "## Provided Classifiers outputs --> The goal is boosting their recall (i.e., precision)"
   ]
  },
  {
   "cell_type": "code",
   "execution_count": 6,
   "metadata": {},
   "outputs": [],
   "source": [
    "# all_250000 dataset\n",
    "classifier_path_centrifuge = \"../../Bio_Project/SimDataset/classifiers_results/strex_centrifuge_250000.res\"\n",
    "classifier_path_kraken1 = \"../../Bio_Project/SimDataset/classifiers_results/strex_kraken1_250000.res\"\n",
    "classifier_path_kraken2 = \"../../Bio_Project/SimDataset/classifiers_results/strex_kraken2_250000.res\"\n",
    "classifier_path_clark_species = \"../../Bio_Project/SimDataset/classifiers_results/strex_clark_species_250000.res\"\n",
    "classifier_path_clark_genus = \"../../Bio_Project/SimDataset/classifiers_results/strex_clark_genus_250000.res\""
   ]
  },
  {
   "cell_type": "code",
   "execution_count": 7,
   "metadata": {},
   "outputs": [],
   "source": [
    "# load the provided classifiers outputs\n",
    "centrifuge = load_classifier_result(classifier_path_centrifuge)\n",
    "kraken1 = load_classifier_result(classifier_path_kraken1)\n",
    "kraken2 = load_classifier_result(classifier_path_kraken2)\n",
    "clark_species = load_classifier_result(classifier_path_clark_species)\n",
    "clark_genus = load_classifier_result(classifier_path_clark_genus)"
   ]
  },
  {
   "cell_type": "markdown",
   "metadata": {},
   "source": [
    "## SINGLE CLASSIFIER"
   ]
  },
  {
   "cell_type": "markdown",
   "metadata": {},
   "source": [
    "##### Classifications obtained by our reassignment procedure --> Single Classifier Output + LiME_binning + TOTAL Reassignment (Major Vote Rule) --> ST"
   ]
  },
  {
   "cell_type": "code",
   "execution_count": 8,
   "metadata": {},
   "outputs": [],
   "source": [
    "# paths to ST classifiers outputs\n",
    "classifier_path_centrifuge_ST = \"../pythonProgram/all_250000_1.fq_strex_centrifuge_25000.totalReassignment.res\""
   ]
  },
  {
   "cell_type": "code",
   "execution_count": 9,
   "metadata": {},
   "outputs": [],
   "source": [
    "# load ST classifiers outputs\n",
    "centrifuge_ST = load_classifier_result(classifier_path_centrifuge_ST)"
   ]
  },
  {
   "cell_type": "markdown",
   "metadata": {},
   "source": [
    "##### Classifications obtained by our reassignment procedure --> Single Classifier Output + LiME_binning + PARTIAL Reassignment (Major Vote Rule) --> SP"
   ]
  },
  {
   "cell_type": "code",
   "execution_count": 10,
   "metadata": {},
   "outputs": [],
   "source": [
    "# paths to SP classifiers outputs\n",
    "classifier_path_centrifuge_SP = \"../pythonProgram/all_250000_1.fq_strex_centrifuge_25000.partialReassignment.res\""
   ]
  },
  {
   "cell_type": "code",
   "execution_count": 11,
   "metadata": {},
   "outputs": [],
   "source": [
    "# load SP classifiers outputs\n",
    "centrifuge_SP = load_classifier_result(classifier_path_centrifuge_SP)"
   ]
  },
  {
   "cell_type": "markdown",
   "metadata": {},
   "source": [
    "##### Classifications obtained by our reassignment procedure --> Single Classifier Output + LiME_binning + TOTAL Reassignment (Major Vote Rule) + ZERO trick --> STZ"
   ]
  },
  {
   "cell_type": "code",
   "execution_count": 12,
   "metadata": {},
   "outputs": [],
   "source": [
    "# paths to STZ classifiers outputs\n",
    "classifier_path_centrifuge_STZ = \"../pythonProgram/all_250000_1.fq_strex_centrifuge_25000.totalReassignment.zero_version.res\""
   ]
  },
  {
   "cell_type": "code",
   "execution_count": 13,
   "metadata": {},
   "outputs": [],
   "source": [
    "# load STZ classifiers outputs\n",
    "centrifuge_STZ = load_classifier_result(classifier_path_centrifuge_STZ)"
   ]
  },
  {
   "cell_type": "markdown",
   "metadata": {},
   "source": [
    "##### Classifications obtained by our reassignment procedure --> Single Classifier Output + LiME_binning + PARTIAL Reassignment (Major Vote Rule) + ZERO trick --> SPZ"
   ]
  },
  {
   "cell_type": "code",
   "execution_count": 14,
   "metadata": {},
   "outputs": [],
   "source": [
    "# paths to SPZ classifiers outputs\n",
    "classifier_path_centrifuge_SPZ = \"../pythonProgram/all_250000_1.fq_strex_centrifuge_25000.partialReassignment.zero_version.res\""
   ]
  },
  {
   "cell_type": "code",
   "execution_count": 15,
   "metadata": {},
   "outputs": [],
   "source": [
    "# load SPZ classifiers outputs\n",
    "centrifuge_SPZ = load_classifier_result(classifier_path_centrifuge_SPZ)"
   ]
  },
  {
   "cell_type": "markdown",
   "metadata": {},
   "source": [
    "## MULTI CLASSIFIER"
   ]
  },
  {
   "cell_type": "markdown",
   "metadata": {},
   "source": [
    "##### Classifications obtained by our reassignment procedure --> Multi Classifier Output + LiME_binning + TOTAL Reassignment (Major Vote Rule) + VERSION 1"
   ]
  },
  {
   "cell_type": "markdown",
   "metadata": {},
   "source": [
    "##### Classifications obtained by our reassignment procedure --> Multi Classifier Output + LiME_binning + TOTAL Reassignment (Major Vote Rule) + VERSION 2"
   ]
  },
  {
   "cell_type": "markdown",
   "metadata": {},
   "source": [
    "##### Classifications obtained by our reassignment procedure --> Multi Classifier Output + LiME_binning + PARTIAL Reassignment (Major Vote Rule) + VERSION 1 "
   ]
  },
  {
   "cell_type": "markdown",
   "metadata": {},
   "source": [
    "##### Classifications obtained by our reassignment procedure --> Multi Classifier Output + LiME_binning + PARTIAL Reassignment (Major Vote Rule) + VERSION 2 "
   ]
  },
  {
   "cell_type": "markdown",
   "metadata": {},
   "source": [
    "##### Classifications obtained by our reassignment procedure --> Multi Classifier Output + LiME_binning + TOTAL Reassignment (Major Vote Rule) + VERSION 1 + ZERO trick"
   ]
  },
  {
   "cell_type": "markdown",
   "metadata": {},
   "source": [
    "##### Classifications obtained by our reassignment procedure --> Multi Classifier Output + LiME_binning + TOTAL Reassignment (Major Vote Rule) + VERSION 2 + ZERO trick"
   ]
  },
  {
   "cell_type": "markdown",
   "metadata": {},
   "source": [
    "##### Classifications obtained by our reassignment procedure --> Multi Classifier Output + LiME_binning + PARTIAL Reassignment (Major Vote Rule) + VERSION 1 + ZERO trick"
   ]
  },
  {
   "cell_type": "markdown",
   "metadata": {},
   "source": [
    "##### Classifications obtained by our reassignment procedure --> Multi Classifier Output + LiME_binning + PARTIAL Reassignment (Major Vote Rule) + VERSION 2 + ZERO trick"
   ]
  },
  {
   "cell_type": "markdown",
   "metadata": {},
   "source": [
    "## ANALYSIS"
   ]
  },
  {
   "cell_type": "markdown",
   "metadata": {},
   "source": [
    "The following block will be about the comparisons of the classification output obtained by applying our procedure to centrifuge classification output."
   ]
  },
  {
   "cell_type": "code",
   "execution_count": 23,
   "metadata": {},
   "outputs": [
    {
     "name": "stdout",
     "output_type": "stream",
     "text": [
      "non labelled reads centrifuge:  345022\n",
      "non labelled reads centrifuge_ST:  332220\n",
      "non labelled reads centrifuge_SP:  274914\n",
      "non labelled reads centrifue_STZ:  57557\n",
      "non labelled reads centrifuge_SPZ:  57557\n"
     ]
    }
   ],
   "source": [
    "non_labelled_centrifuge = non_classified_reads(centrifuge)\n",
    "print(\"non labelled reads centrifuge: \", non_labelled_centrifuge[1])\n",
    "\n",
    "non_labelled_centrifuge_ST = non_classified_reads(centrifuge_ST)\n",
    "print(\"non labelled reads centrifuge_ST: \", non_labelled_centrifuge_ST[1])\n",
    "\n",
    "non_labelled_centrifuge_SP = non_classified_reads(centrifuge_SP)\n",
    "print(\"non labelled reads centrifuge_SP: \", non_labelled_centrifuge_SP[1])\n",
    "\n",
    "non_labelled_centrifuge_STZ = non_classified_reads(centrifuge_STZ)\n",
    "print(\"non labelled reads centrifue_STZ: \", non_labelled_centrifuge_STZ[1])\n",
    "\n",
    "non_labelled_centrifuge_SPZ = non_classified_reads(centrifuge_SPZ)\n",
    "print(\"non labelled reads centrifuge_SPZ: \", non_labelled_centrifuge_SPZ[1])"
   ]
  },
  {
   "cell_type": "code",
   "execution_count": 62,
   "metadata": {},
   "outputs": [
    {
     "name": "stdout",
     "output_type": "stream",
     "text": [
      "Common non labelled reads ST:  274974\n",
      "Common non labelled reads SP:  274914\n",
      "Common non labelled reads STZ:  57557\n",
      "Common non labelled reads SPZ:  57557\n"
     ]
    }
   ],
   "source": [
    "common_non_labelled_reads_ST = intersection(non_labelled_centrifuge[0], non_labelled_centrifuge_ST[0])\n",
    "print(\"Common non labelled reads ST: \", len(common_non_labelled_reads_ST))\n",
    "\n",
    "common_non_labelled_reads_SP = intersection(non_labelled_centrifuge[0], non_labelled_centrifuge_SP[0])\n",
    "print(\"Common non labelled reads SP: \", len(common_non_labelled_reads_SP))\n",
    "      \n",
    "common_non_labelled_reads_STZ = intersection(non_labelled_centrifuge[0], non_labelled_centrifuge_STZ[0])\n",
    "print(\"Common non labelled reads STZ: \", len(common_non_labelled_reads_STZ))\n",
    "      \n",
    "common_non_labelled_reads_SPZ = intersection(non_labelled_centrifuge[0], non_labelled_centrifuge_SPZ[0])\n",
    "print(\"Common non labelled reads SPZ: \", len(common_non_labelled_reads_SPZ))"
   ]
  },
  {
   "cell_type": "code",
   "execution_count": 27,
   "metadata": {},
   "outputs": [
    {
     "name": "stdout",
     "output_type": "stream",
     "text": [
      "Common non labelled reads centrifuge_ST and centrifuge_SP:  273710\n"
     ]
    }
   ],
   "source": [
    "# intersection ST and SP\n",
    "common_non_labelled_reads_ST_SP = intersection(non_labelled_centrifuge_ST[0], non_labelled_centrifuge_SP[0])\n",
    "print(\"Common non labelled reads b/t centrifuge_ST and centrifuge_SP: \", len(common_non_labelled_reads_ST_SP))"
   ]
  },
  {
   "cell_type": "code",
   "execution_count": 28,
   "metadata": {},
   "outputs": [
    {
     "name": "stdout",
     "output_type": "stream",
     "text": [
      "Common non labelled reads b/t centrifuge_STZ and centrifuge_SPZ:  57557\n"
     ]
    }
   ],
   "source": [
    "# intersection STZ and SPZ\n",
    "common_non_labelled_reads_STZ_SPZ = intersection(non_labelled_centrifuge_STZ[0], non_labelled_centrifuge_SPZ[0])\n",
    "print(\"Common non labelled reads b/t centrifuge_STZ and centrifuge_SPZ: \", len(common_non_labelled_reads_STZ_SPZ))"
   ]
  },
  {
   "cell_type": "markdown",
   "metadata": {},
   "source": [
    "#### Not labelled by centrifuge labelled by centrifuge_ST"
   ]
  },
  {
   "cell_type": "code",
   "execution_count": 40,
   "metadata": {},
   "outputs": [
    {
     "name": "stdout",
     "output_type": "stream",
     "text": [
      "Number of reads not labelled by centrifuge that are labelled by centrifuge_ST:  70048\n"
     ]
    }
   ],
   "source": [
    "difference_std_ST = difference(non_labelled_centrifuge[0], non_labelled_centrifuge_ST[0])\n",
    "print(\"Number of reads not labelled by centrifuge that are labelled by centrifuge_ST: \", len(difference_std_ST))"
   ]
  },
  {
   "cell_type": "markdown",
   "metadata": {},
   "source": [
    "#### Not labelled by centrifuge_ST, labelled by centrifuge"
   ]
  },
  {
   "cell_type": "code",
   "execution_count": 60,
   "metadata": {},
   "outputs": [
    {
     "name": "stdout",
     "output_type": "stream",
     "text": [
      "Number of reads not labelled by centrifuge_ST that are labelled by centrifuge:  57246\n"
     ]
    }
   ],
   "source": [
    "difference_ST_std = difference(non_labelled_centrifuge_ST[0], non_labelled_centrifuge[0])\n",
    "print(\"Number of reads not labelled by centrifuge_ST that are labelled by centrifuge: \", len(difference_ST_std))"
   ]
  },
  {
   "cell_type": "markdown",
   "metadata": {},
   "source": [
    "#### Check if numbers are OK"
   ]
  },
  {
   "cell_type": "code",
   "execution_count": 59,
   "metadata": {},
   "outputs": [
    {
     "name": "stdout",
     "output_type": "stream",
     "text": [
      "345022 --> OK\n",
      "332220 --> OK\n"
     ]
    }
   ],
   "source": [
    "if len(difference_std_ST) + len(common_non_labelled_reads_ST) == non_labelled_centrifuge[1]:\n",
    "    print(non_labelled_centrifuge[1], end = ' ')\n",
    "    print(\"--> OK\")\n",
    "if len(difference_ST_std) + len(common_non_labelled_reads_ST) == non_labelled_centrifuge_ST[1]:\n",
    "    print(non_labelled_centrifuge_ST[1], end = ' ')\n",
    "    print(\"--> OK\")"
   ]
  },
  {
   "cell_type": "markdown",
   "metadata": {},
   "source": [
    "## Absolute inprovement in the number of unlabelled reads"
   ]
  },
  {
   "cell_type": "code",
   "execution_count": 31,
   "metadata": {},
   "outputs": [
    {
     "name": "stdout",
     "output_type": "stream",
     "text": [
      "CENTRIFUGE CLASSIFICATION improvement in number of classified reads with ST:  12802\n",
      "CENTRIFUGE CLASSIFICATION improvement in number of classified reads with SP:  70108\n"
     ]
    }
   ],
   "source": [
    "# centrifuge vs centrifuge_ST\n",
    "improvement_ST = non_labelled_centrifuge[1] - non_labelled_centrifuge_ST[1]\n",
    "print(\"CENTRIFUGE CLASSIFICATION improvement in number of classified reads with ST: \", improvement_ST)\n",
    "\n",
    "# centrifuge vs centrifuge_SP\n",
    "improvement_SP = non_labelled_centrifuge[1] - non_labelled_centrifuge_SP[1]\n",
    "print(\"CENTRIFUGE CLASSIFICATION improvement in number of classified reads with SP: \", improvement_SP)"
   ]
  },
  {
   "cell_type": "code",
   "execution_count": 71,
   "metadata": {},
   "outputs": [
    {
     "name": "stdout",
     "output_type": "stream",
     "text": [
      "taxid_1042876.661 --> centrifuge:  0  centrifuge_ST:  1196325\n",
      "taxid_1042876.971 --> centrifuge:  0  centrifuge_ST:  1235689\n",
      "taxid_1042876.1601 --> centrifuge:  0  centrifuge_ST:  1196325\n",
      "taxid_1042876.1782 --> centrifuge:  0  centrifuge_ST:  1215088\n",
      "taxid_1042876.2003 --> centrifuge:  0  centrifuge_ST:  264730\n",
      "taxid_1042876.2451 --> centrifuge:  0  centrifuge_ST:  487\n",
      "taxid_1042876.2557 --> centrifuge:  0  centrifuge_ST:  487\n",
      "taxid_1042876.2995 --> centrifuge:  0  centrifuge_ST:  1215088\n",
      "taxid_1042876.3043 --> centrifuge:  0  centrifuge_ST:  76759\n",
      "taxid_1042876.3566 --> centrifuge:  0  centrifuge_ST:  316\n",
      "taxid_1042876.3622 --> centrifuge:  0  centrifuge_ST:  287\n",
      "taxid_1042876.3768 --> centrifuge:  0  centrifuge_ST:  487\n",
      "taxid_1042876.4128 --> centrifuge:  0  centrifuge_ST:  76759\n",
      "taxid_1042876.4491 --> centrifuge:  0  centrifuge_ST:  1331671\n",
      "taxid_1042876.5099 --> centrifuge:  0  centrifuge_ST:  1331671\n",
      "taxid_1042876.5330 --> centrifuge:  0  centrifuge_ST:  487\n",
      "taxid_1042876.5759 --> centrifuge:  0  centrifuge_ST:  286\n",
      "taxid_1042876.6018 --> centrifuge:  0  centrifuge_ST:  1331671\n",
      "taxid_1042876.6632 --> centrifuge:  0  centrifuge_ST:  286\n",
      "taxid_1042876.6753 --> centrifuge:  0  centrifuge_ST:  76759\n",
      " \n",
      "taxid_1042876.373 --> centrifuge_ST 0  centrifuge:  76869\n",
      "taxid_1042876.528 --> centrifuge_ST 0  centrifuge:  479433\n",
      "taxid_1042876.977 --> centrifuge_ST 0  centrifuge:  1031711\n",
      "taxid_1042876.1081 --> centrifuge_ST 0  centrifuge:  1331671\n",
      "taxid_1042876.1283 --> centrifuge_ST 0  centrifuge:  76759\n",
      "taxid_1042876.1427 --> centrifuge_ST 0  centrifuge:  710685\n",
      "taxid_1042876.1443 --> centrifuge_ST 0  centrifuge:  1001585\n",
      "taxid_1042876.1571 --> centrifuge_ST 0  centrifuge:  504346\n",
      "taxid_1042876.2285 --> centrifuge_ST 0  centrifuge:  1214101\n",
      "taxid_1042876.2858 --> centrifuge_ST 0  centrifuge:  286\n",
      "taxid_1042876.3150 --> centrifuge_ST 0  centrifuge:  76759\n",
      "taxid_1042876.3310 --> centrifuge_ST 0  centrifuge:  76114\n",
      "taxid_1042876.3327 --> centrifuge_ST 0  centrifuge:  286\n",
      "taxid_1042876.3387 --> centrifuge_ST 0  centrifuge:  710696\n",
      "taxid_1042876.3610 --> centrifuge_ST 0  centrifuge:  365046\n",
      "taxid_1042876.3855 --> centrifuge_ST 0  centrifuge:  76869\n",
      "taxid_1042876.3955 --> centrifuge_ST 0  centrifuge:  286\n",
      "taxid_1042876.4094 --> centrifuge_ST 0  centrifuge:  1331671\n",
      "taxid_1042876.4195 --> centrifuge_ST 0  centrifuge:  35\n",
      "taxid_1042876.4427 --> centrifuge_ST 0  centrifuge:  1331671\n"
     ]
    }
   ],
   "source": [
    "for i in range (0, 20):\n",
    "    print(difference_std_ST[i], \"--> centrifuge: \", centrifuge[difference_std_ST[i]], \" centrifuge_ST: \", centrifuge_ST[difference_std_ST[i]])\n",
    "print(\" \")\n",
    "for i in range (0, 20):\n",
    "    print(difference_ST_std[i], \"--> centrifuge_ST\", centrifuge_ST[difference_ST_std[i]], \" centrifuge: \", centrifuge[difference_ST_std[i]])"
   ]
  },
  {
   "cell_type": "markdown",
   "metadata": {},
   "source": [
    "### UTILITY FUNCTIONS"
   ]
  },
  {
   "cell_type": "markdown",
   "metadata": {},
   "source": [
    "#### Load classifier result function\n",
    "It returns a dictionary where:\n",
    "\n",
    "- key = read id\n",
    "- value = class found by classifier"
   ]
  },
  {
   "cell_type": "code",
   "execution_count": 2,
   "metadata": {},
   "outputs": [],
   "source": [
    "def load_classifier_result(path):\n",
    "\n",
    "    classification = open(path, 'r')\n",
    "    classifier_results = {}\n",
    "\n",
    "    for line in classification:\n",
    "        col = []\n",
    "        for j in range(0, len(line.split())):\n",
    "            col.append(line.split()[j])\n",
    "        \n",
    "        classifier_results[col[0]] = col[1]\n",
    "\n",
    "    classification.close()\n",
    "\n",
    "    return classifier_results "
   ]
  },
  {
   "cell_type": "markdown",
   "metadata": {},
   "source": [
    "#### Non classified reads function\n",
    "It returns a list with two elements:\n",
    "\n",
    "- dict of with reads_id of non classified reads\n",
    "- number of non classified reads"
   ]
  },
  {
   "cell_type": "code",
   "execution_count": 3,
   "metadata": {},
   "outputs": [],
   "source": [
    "def non_classified_reads(classifier_output):\n",
    "    \n",
    "    non_classified_reads = {}\n",
    "    \n",
    "    for read in classifier_output.keys():\n",
    "        if classifier_output[read] == '0':\n",
    "            non_classified_reads[read] = ''\n",
    "     \n",
    "    return [non_classified_reads, len(non_classified_reads)]\n",
    "        "
   ]
  },
  {
   "cell_type": "markdown",
   "metadata": {},
   "source": [
    "#### Intersection function\n",
    "It returns a list with the reads present in both dictionaries:"
   ]
  },
  {
   "cell_type": "code",
   "execution_count": 4,
   "metadata": {},
   "outputs": [],
   "source": [
    "def intersection(dict1, dict2):\n",
    "    \n",
    "    common_reads = []\n",
    "    \n",
    "    for read in dict1.keys():\n",
    "        if read in dict2.keys():\n",
    "            common_reads.append(read)\n",
    "    \n",
    "    return common_reads        "
   ]
  },
  {
   "cell_type": "markdown",
   "metadata": {},
   "source": [
    "#### Difference function\n",
    "It returns a list of reads that are present in dict1 and not in dict2, NOT the reads in dict2 that are not present in dict1."
   ]
  },
  {
   "cell_type": "code",
   "execution_count": 33,
   "metadata": {},
   "outputs": [],
   "source": [
    "def  difference(dict1, dict2):\n",
    "    \n",
    "    non_shared_reads = []\n",
    "    \n",
    "    for read in dict1.keys():\n",
    "        if read not in dict2.keys():\n",
    "            non_shared_reads.append(read)\n",
    "    \n",
    "    return non_shared_reads"
   ]
  }
 ],
 "metadata": {
  "kernelspec": {
   "display_name": "Python 3",
   "language": "python",
   "name": "python3"
  },
  "language_info": {
   "codemirror_mode": {
    "name": "ipython",
    "version": 3
   },
   "file_extension": ".py",
   "mimetype": "text/x-python",
   "name": "python",
   "nbconvert_exporter": "python",
   "pygments_lexer": "ipython3",
   "version": "3.8.5"
  }
 },
 "nbformat": 4,
 "nbformat_minor": 4
}
