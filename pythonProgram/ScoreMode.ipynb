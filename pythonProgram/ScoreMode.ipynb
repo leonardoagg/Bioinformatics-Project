{
 "cells": [
  {
   "cell_type": "code",
   "execution_count": 13,
   "metadata": {},
   "outputs": [],
   "source": [
    "import time\n",
    "import ReassignmentTools\n",
    "import sys"
   ]
  },
  {
   "cell_type": "code",
   "execution_count": 16,
   "metadata": {},
   "outputs": [],
   "source": [
    "\n",
    "def score_get_inverted_index(clusters, dataset, scores):\n",
    "    num_clusters = max(clusters) + 1\n",
    "    num_reads = len(dataset)\n",
    "    inverted_index = []\n",
    "\n",
    "    for i in range(0, num_clusters):\n",
    "        inverted_index.append([])\n",
    "\n",
    "    for i in range(0, num_reads):\n",
    "        inverted_index[dataset[i][2]].append((dataset[i][1],scores[i]))\n",
    "\n",
    "    return inverted_index\n",
    "\n"
   ]
  },
  {
   "cell_type": "code",
   "execution_count": 6,
   "metadata": {},
   "outputs": [],
   "source": [
    "dataset_path = \"../../all_250000_1.fq\"\n",
    "clusters_path =  \"../../all_250000_1+RC.fasta.a16.t20.txt\"\n",
    "#classifier_path = \"../strex_kraken2_250000.res\"\n",
    "#classifier_path = \"../strex_centrifuge_250000.res\"\n",
    "classifier_path = \"../../strex_kraken1_250000.res\"\n",
    "\n",
    "IsFasta = False\n",
    "TotalReassignment = False\n",
    "Zero = False"
   ]
  },
  {
   "cell_type": "code",
   "execution_count": 3,
   "metadata": {},
   "outputs": [
    {
     "name": "stdout",
     "output_type": "stream",
     "text": [
      "Partial reassignment has been chosen\n",
      "Fastq file loaded\n"
     ]
    }
   ],
   "source": [
    "#def main(dataset_path, clusters_path, IsFasta, TotalReassignment, Zero, classifier_path):\n",
    "start = time.time()\n",
    "\n",
    "if TotalReassignment:\n",
    "    print(\"Total reassignment has been chosen\")\n",
    "else:\n",
    "    print(\"Partial reassignment has been chosen\")\n",
    "\n",
    "#dataset_lines = ReassignmentTools.load_dataset(dataset_path, IsFasta)\n",
    "\n",
    "if IsFasta:\n",
    "    dataset_lines = ReassignmentTools.load_dataset(dataset_path, IsFasta)\n",
    "else:\n",
    "    (dataset_lines, line_score) = ReassignmentTools.load_dataset(dataset_path, IsFasta)\n",
    "    scores = ReassignmentTools.computeScore(line_score)\n",
    "    \n",
    "\n",
    "if IsFasta:\n",
    "    print(\"Fasta file loaded\")\n",
    "else:\n",
    "    print(\"Fastq file loaded\")\n",
    "    \n",
    "    "
   ]
  },
  {
   "cell_type": "code",
   "execution_count": 15,
   "metadata": {},
   "outputs": [
    {
     "name": "stdout",
     "output_type": "stream",
     "text": [
      "IIHIIIHHHIHFIGHFHIHEIIIIIIHIGIIGHIIIIGIIHIEEIFGIFFIFIIIIIBIFFCCID>AFFIECCIIAICFGDICICEE@GDFI8II4ICHI\n",
      "37.7\n",
      "IHIIIIIIHIIIIIHIGIIHIGIIIIHHFHIIGICIGFEFIHAIEIIIGIDEIIABIIDEIHIIBIFIIGDIII?IFIIIBIII@<CIIIIIIA;IAICI\n",
      "38.16\n",
      "IHIHHHIIIGGIGIIIIHIFIGGIFHIIGEFHIBIEDIDIHIIHEH?IGHIIIII?IB=IDBICIHIHIIEIIIDHIH>3ICIII1DADIC=IIIBID:I\n",
      "37.41\n",
      "IIIIHHGHHIHHGIIFHHHHIIHBHGFHHDGGHHIECIDGIIIIIEIIIGDGIGECEEDIIHDHIA8ED9EI>H>BHEFEIIDI8I?FIIIFIIIII@IC\n",
      "37.45\n",
      "HHIHHHIHFIIIIHGHEEIHHIEFHIIIIFEGG@IFFIDGIFEFIIHCEH6IIGFIHEIFIIGEHIFCI@FCHIHHIFHDI4EIABIHIIFIFIACH@II\n",
      "37.65\n",
      "HHHHIIHHIIHHIIHEHHIEIIFEIIIHGEHAIDEIIGDI?II@FIGIIE@DIHIEGICHG?IGIHIEHGDIID?AIEI@I;FEI?CIHIICIHI==II>\n",
      "37.43\n",
      "HIHHHIHIHIIHHGGHGIIIGIFIHDIHIHIGIIAGIIFGIFICGDIEIEIICIIHEHA;IGIGAH@DIIHID>ICIIIIAIC;II:IHIFFIII?II8I\n",
      "37.7\n",
      "IIIHIHHIHHIFGGIFIGHIIHIFEHFHHFIGHIFIIII@EFIIGIIIFIHIBIHAIFDICGF<CCI=I;IGIIIHICIIGFIA?III7IDFIDIAIHIE\n",
      "37.75\n",
      "HIHHHHHIIIIHIHIIIIIHIDIIIFHGEHIIHEFIIIFHIIFIFIIHIG?GHIIGIIHFDIIIGI@II:IIIFA@FII9H7DIIIIIIIIII>IBIII;\n",
      "38.09\n",
      "HHHHIGIIHGIHIFHIFIIIIHHIHHHIGIDGFIIIEBEIHIGHIFHCBGECIIHIEIIIEIIGDCECIIIIIIIFIIIH?G=E@FIIIII>IIIIDIII\n",
      "38.26\n"
     ]
    }
   ],
   "source": [
    "for i in range(0,10):\n",
    "    print(line_score[i])\n",
    "    print(scores[i])"
   ]
  },
  {
   "cell_type": "code",
   "execution_count": 7,
   "metadata": {},
   "outputs": [
    {
     "name": "stdout",
     "output_type": "stream",
     "text": [
      "Files loaded and datasets created in time:  32.79261302947998\n"
     ]
    }
   ],
   "source": [
    "clusters_list = ReassignmentTools.load_clusters_result(clusters_path)\n",
    "classifier_results = ReassignmentTools.load_classifier_result(classifier_path)\n",
    "\n",
    "# new Structure : id , classifier result , cluster\n",
    "\n",
    "dataset = ReassignmentTools.build_dataset(dataset_lines, clusters_list, classifier_results)\n",
    "\n",
    "stop = time.time()\n",
    "\n",
    "print(\"Files loaded and datasets created in time: \", stop - start)\n",
    "\n",
    "if len(dataset_lines) != len(clusters_list):\n",
    "    print(\"Error in input files!\")\n",
    "    exit()\n",
    "\n",
    "  "
   ]
  },
  {
   "cell_type": "code",
   "execution_count": 17,
   "metadata": {},
   "outputs": [
    {
     "name": "stdout",
     "output_type": "stream",
     "text": [
      "Inverted index created in time:  2.264085054397583\n"
     ]
    }
   ],
   "source": [
    "  \n",
    "# INVERTED INDEX\n",
    "\n",
    "start = time.time()\n",
    "\n",
    "inverted_index = score_get_inverted_index(clusters_list, dataset,scores)\n",
    "\n",
    "stop = time.time()\n",
    "\n",
    "print(\"Inverted index created in time: \", stop - start)"
   ]
  },
  {
   "cell_type": "code",
   "execution_count": 23,
   "metadata": {},
   "outputs": [
    {
     "name": "stdout",
     "output_type": "stream",
     "text": [
      "[('76759', 37.7)]\n",
      "[('76759', 38.16), ('76759', 37.35)]\n",
      "[('1215088', 37.41)]\n",
      "[('76759', 37.45), ('76759', 37.52), ('76759', 37.8)]\n",
      "[('76759', 37.65)]\n",
      "[('1114970', 37.43), ('80840', 37.53)]\n",
      "[('76759', 37.7), ('76759', 37.49), ('76759', 37.92)]\n",
      "[('1215088', 37.75), ('1215088', 37.57), ('1215088', 37.2), ('1215088', 37.58)]\n",
      "[('76759', 38.09), ('76759', 36.83), ('76759', 37.52)]\n",
      "[('76759', 38.26)]\n",
      "[('76759', 37.28)]\n",
      "[('76759', 37.48), ('76759', 37.59), ('76759', 37.46), ('76759', 38.18), ('76759', 37.4), ('76759', 38.0)]\n",
      "[('76759', 37.52)]\n",
      "[('1196325', 37.51), ('1435044', 37.3)]\n",
      "[('136845', 36.96), ('136845', 37.94), ('136845', 37.55)]\n",
      "[('0', 37.2)]\n",
      "[('76759', 37.99), ('76759', 37.55), ('76759', 38.05), ('76759', 36.75)]\n",
      "[('76759', 37.93), ('136845', 38.11), ('136845', 37.66)]\n"
     ]
    }
   ],
   "source": [
    "for i in range(0,18):\n",
    "    print(inverted_index[i])"
   ]
  },
  {
   "cell_type": "code",
   "execution_count": 26,
   "metadata": {},
   "outputs": [],
   "source": [
    "def score_search(cluster):\n",
    "    label_dict = {}\n",
    "\n",
    "    #pair = (label,score)\n",
    "    for pair in cluster:\n",
    "\n",
    "        if pair[0] in list(label_dict):\n",
    "            label_dict[pair[0]] = label_dict[pair[0]] + pair[1] \n",
    "        else:\n",
    "            # if it does not exist, it's automatically created\n",
    "            label_dict[pair[0]] = pair[1]\n",
    "\n",
    "    return label_dict"
   ]
  },
  {
   "cell_type": "code",
   "execution_count": 27,
   "metadata": {},
   "outputs": [
    {
     "name": "stdout",
     "output_type": "stream",
     "text": [
      "Classes have been elaborated in:  10.440802097320557\n",
      "File  strex_kraken1_25000_SP.res  created.\n",
      "Done\n"
     ]
    }
   ],
   "source": [
    "start = time.time()\n",
    "\n",
    "\n",
    "max_label_per_cluster_list = []\n",
    "max_label_list = []\n",
    "\n",
    "for cluster in inverted_index:\n",
    "\n",
    "    # return a dictionary with {label: score} pairs that appear in the examinated cluster\n",
    "    label_dict = score_search(cluster)\n",
    "\n",
    "    ##if ZERO VERSION:\n",
    "    if Zero:\n",
    "        # return a pair [label, frequency], where label is the label with max frequency and frequency is max frequency\n",
    "        max_label = ReassignmentTools.get_max_label_zero_version(label_dict)\n",
    "\n",
    "    else:\n",
    "        # return a pair [label, frequency], where label is the label with max frequency and frequency is max frequency\n",
    "        max_label = ReassignmentTools.get_max_label(label_dict)\n",
    "\n",
    "    # append the label with max frequncy in the list of all max labels that is used in the reassignment step\n",
    "    max_label_list.append(max_label[0])\n",
    "\n",
    "    # append the triplet [max label, max frequency, number of total reads in the cluster]\n",
    "    max_label_per_cluster_list.append([max_label[0], max_label[1], len(cluster)])\n",
    "\n",
    "\n",
    "if TotalReassignment:\n",
    "    reassigned_classification = ReassignmentTools.total_reassignment(dataset, max_label_list)\n",
    "else:\n",
    "    reassigned_classification = ReassignmentTools.partial_reassignment(dataset, max_label_list)\n",
    "stop = time.time()\n",
    "\n",
    "print(\"Classes have been elaborated in: \", stop - start)\n",
    "\n",
    "ReassignmentTools.printResults(dataset_path, classifier_path, TotalReassignment, reassigned_classification, Zero)\n",
    "\n",
    "print(\"Done\")"
   ]
  },
  {
   "cell_type": "code",
   "execution_count": null,
   "metadata": {},
   "outputs": [],
   "source": []
  }
 ],
 "metadata": {
  "kernelspec": {
   "display_name": "Python 3",
   "language": "python",
   "name": "python3"
  },
  "language_info": {
   "codemirror_mode": {
    "name": "ipython",
    "version": 3
   },
   "file_extension": ".py",
   "mimetype": "text/x-python",
   "name": "python",
   "nbconvert_exporter": "python",
   "pygments_lexer": "ipython3",
   "version": "3.7.6"
  }
 },
 "nbformat": 4,
 "nbformat_minor": 4
}
