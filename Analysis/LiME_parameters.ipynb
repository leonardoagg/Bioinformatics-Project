{
 "cells": [
  {
   "cell_type": "markdown",
   "metadata": {},
   "source": [
    "## LiME_binning parameters \n",
    "Running this notebook will generate a graph where the number of clusters, the cardinality of the largest cluster and the number of non grouped reads are plotted for each (alpha, t) pair that has been provided in input to LiME_binning tool.\n",
    "\n",
    "If one of the three values to be plotted (number of clusters, cardinality of the largest cluster or number of non grouped reads) is unknown, the notebook \"LiME_binning_output_analysis\" should be run before this one.\n"
   ]
  },
  {
   "cell_type": "markdown",
   "metadata": {},
   "source": [
    "### Input file format\n",
    "\n",
    "The notebook receives in input a .txt file organized in four colums:  <i>(alpha,t) num_clusters max_set_cardinality non_grouped reads</i>. <br>\n",
    "-- The four values must be separated by a whitespace. <br>\n",
    "-- The file should contain one line per (alpha, t) pair tested. <br>\n",
    "-- For each line the four above described parameters have to be specified. <br>\n",
    "-- See LiME_binning_parameters_example.txt file as an input example. "
   ]
  },
  {
   "cell_type": "code",
   "execution_count": 1,
   "metadata": {},
   "outputs": [],
   "source": [
    "# libraries\n",
    "import numpy as np\n",
    "import matplotlib.pyplot as plt"
   ]
  },
  {
   "cell_type": "code",
   "execution_count": 2,
   "metadata": {},
   "outputs": [],
   "source": [
    "# path to input file \n",
    "input_file = \"LiME_binning_parameters_example.txt\""
   ]
  },
  {
   "cell_type": "code",
   "execution_count": 3,
   "metadata": {},
   "outputs": [
    {
     "data": {
      "image/png": "[encoded data removed]",
      "text/plain": [
       "<Figure size 1080x720 with 1 Axes>"
      ]
     },
     "metadata": {
      "needs_background": "light"
     },
     "output_type": "display_data"
    }
   ],
   "source": [
    "input = open(input_file, 'r')\n",
    "\n",
    "# list for (alpha, t) pairs\n",
    "labels = [] \n",
    "\n",
    "# list of number of clusters per (alpha, t) pair\n",
    "bars1 = [] \n",
    "\n",
    "# list of max set cardinality per (alpha, t) pair\n",
    "bars2 = []\n",
    "\n",
    "# list of non grouped reads per (alpha, t) par\n",
    "bars3 = []\n",
    "\n",
    "for line in input:\n",
    "    line_items = line.split()\n",
    "    \n",
    "    if len(line_items) != 4:\n",
    "        print(\"Error in input file!\")\n",
    "        break\n",
    "    \n",
    "    labels.append(line_items[0])\n",
    "    bars1.append(int(line_items[1]))\n",
    "    bars2.append(int(line_items[2]))\n",
    "    bars3.append(int(line_items[3]))\n",
    "                  \n",
    "input.close()\n",
    "\n",
    "# set width of bars\n",
    "barWidth = 0.25\n",
    "\n",
    "fig = plt.figure(figsize=(15,10))\n",
    "\n",
    "# Set position of bar on X axis\n",
    "r1 = np.arange(len(bars1))\n",
    "r2 = [x + barWidth for x in r1]\n",
    "r3 = [x + barWidth for x in r2]\n",
    "\n",
    "# Make the plot\n",
    "plt.bar(r1, bars1, color='#6ED196', width=barWidth, edgecolor='white', label='# clusters')\n",
    "plt.bar(r2, bars2, color='#7097D2', width=barWidth, edgecolor='white', label='max set cardinality')\n",
    "plt.bar(r3, bars3, color='#BE6FD3', width=barWidth, edgecolor='white', label='# non grouped reads')\n",
    " \n",
    "# Add xticks on the middle of the group bars\n",
    "plt.xlabel('(alpha, t) values')\n",
    "plt.xticks([r + barWidth for r in range(len(bars1))], labels)\n",
    " \n",
    "# save the figure\n",
    "fig.savefig('output/LimeBinningParametersOutputGraph.png', bbox_inches='tight', dpi=fig.dpi)\n",
    "\n",
    "# Create legend & Show graphic\n",
    "plt.legend()\n",
    "\n",
    "plt.show()"
   ]
  }
 ],
 "metadata": {
  "kernelspec": {
   "display_name": "Python 3",
   "language": "python",
   "name": "python3"
  },
  "language_info": {
   "codemirror_mode": {
    "name": "ipython",
    "version": 3
   },
   "file_extension": ".py",
   "mimetype": "text/x-python",
   "name": "python",
   "nbconvert_exporter": "python",
   "pygments_lexer": "ipython3",
   "version": "3.7.7"
  }
 },
 "nbformat": 4,
 "nbformat_minor": 4
}
