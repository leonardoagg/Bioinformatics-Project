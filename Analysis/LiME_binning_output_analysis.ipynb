{
 "cells": [
  {
   "cell_type": "markdown",
   "metadata": {},
   "source": [
    "# Binning output analysis"
   ]
  },
  {
   "cell_type": "code",
   "execution_count": 1,
   "metadata": {},
   "outputs": [],
   "source": [
    "# import libraries to perform the analysis\n",
    "import csv\n",
    "import matplotlib.pyplot as plt"
   ]
  },
  {
   "cell_type": "code",
   "execution_count": 2,
   "metadata": {},
   "outputs": [],
   "source": [
    "# path to binning output file\n",
    "binning_path = \"../../../LiME_binning results/paired_SRR184065/SRR1804065_1.filtr+RC.fasta.a50.t55.txt\""
   ]
  },
  {
   "cell_type": "code",
   "execution_count": 3,
   "metadata": {},
   "outputs": [],
   "source": [
    "binning_output = open(binning_path, \"r\")\n",
    "\n",
    "# read binning output \n",
    "cluster_index = []\n",
    "for line in binning_output:\n",
    "    cluster_index.append(int(line))\n",
    "    \n",
    "binning_output.close()\n",
    "\n",
    "# number of clusters\n",
    "max_val = max(cluster_index) + 1 \n",
    "\n",
    "cluster_cardinality = []\n",
    "# cluster_cardinality list initialization\n",
    "for i in range(0, max_val):\n",
    "    cluster_cardinality.append(0)\n",
    "    \n",
    "# clusters cardinality calculation\n",
    "for i in range(0, len(cluster_index)):\n",
    "    temp = cluster_index[i]\n",
    "    cluster_cardinality[temp] = cluster_cardinality[temp] + 1\n",
    "\n",
    "max_set_size = max(cluster_cardinality)\n",
    "max_set = cluster_cardinality.index(max_set_size)\n",
    "\n",
    "# calculation of the number of clusters with only one read \n",
    "non_grouped_reads = 0 \n",
    "for i in range(0, len(cluster_cardinality)):\n",
    "    if cluster_cardinality[i] == 1:\n",
    "        non_grouped_reads = non_grouped_reads + 1\n",
    "        \n",
    "# cluster_cardinality list ordered in non-ascending order\n",
    "# i.e. from highest to lowest cardinality    \n",
    "cluster_cardinality.sort(reverse = True)"
   ]
  },
  {
   "cell_type": "code",
   "execution_count": 4,
   "metadata": {},
   "outputs": [
    {
     "name": "stdout",
     "output_type": "stream",
     "text": [
      "number of reads:  5654624\n",
      "number of clusters:  2218875\n",
      "max set size:  146156\n",
      "max set index:  38\n",
      "number of non grouped reads:  1828123\n",
      "Sizes of ten largest sets:\n",
      "146156\n",
      "130484\n",
      "96553\n",
      "95017\n",
      "69298\n",
      "46480\n",
      "42018\n",
      "41777\n",
      "41497\n",
      "41011\n"
     ]
    }
   ],
   "source": [
    "# print the computed info about the binning output\n",
    "print(\"number of reads: \", len(cluster_index))\n",
    "print(\"number of clusters: \", len(cluster_cardinality))\n",
    "print(\"max set size: \", max_set_size)\n",
    "print(\"max set index: \", max_set)\n",
    "print(\"number of non grouped reads: \", non_grouped_reads)\n",
    "print(\"Sizes of ten largest sets:\")\n",
    "for i in range(0, 10):\n",
    "    print(cluster_cardinality[i])"
   ]
  },
  {
   "cell_type": "code",
   "execution_count": 5,
   "metadata": {},
   "outputs": [],
   "source": [
    "# create a .csv file called 'binning_output_analysis' contaning the computed info about the binning output\n",
    "with open('binning_output_analysis.csv', 'w', newline='') as file:\n",
    "    writer = csv.writer(file)\n",
    "    writer.writerow([\"parameter\", \"value\"])\n",
    "    writer.writerow([\"number of reads\", len(cluster_index)])\n",
    "    writer.writerow([\"number of clusters\", len(cluster_cardinality)])\n",
    "    writer.writerow([\"max set size\", max_set_size])\n",
    "    writer.writerow([\"max set index\", max_set])\n",
    "    writer.writerow([\"non grouped reads\", non_grouped_reads])"
   ]
  },
  {
   "cell_type": "markdown",
   "metadata": {},
   "source": [
    "## Top k clusters"
   ]
  },
  {
   "cell_type": "markdown",
   "metadata": {},
   "source": [
    "Running the cells below will generate the 'top k clusters' graph that displays the cardinality and the correspondent index of each of the k clusters with higher number of reads. In the graph, the clusters are oredered in non-ascending order of cardinality."
   ]
  },
  {
   "cell_type": "code",
   "execution_count": 6,
   "metadata": {},
   "outputs": [],
   "source": [
    "# set the value of k (you can change it according to your need)\n",
    "k = 20"
   ]
  },
  {
   "cell_type": "code",
   "execution_count": 7,
   "metadata": {},
   "outputs": [
    {
     "data": {
      "image/png": "[encoded data removed]",
      "text/plain": [
       "<Figure size 1080x720 with 1 Axes>"
      ]
     },
     "metadata": {
      "needs_background": "light"
     },
     "output_type": "display_data"
    }
   ],
   "source": [
    "# create a dict with {key: value} pairs where key is equal to the cluster index and value is correspondent cluster cardinality\n",
    "cluster_dict = {}\n",
    "\n",
    "for cluster in cluster_index:\n",
    "    \n",
    "    if cluster in cluster_dict.keys():\n",
    "        cluster_dict[cluster] = cluster_dict[cluster] + 1 \n",
    "    \n",
    "    else:\n",
    "        cluster_dict[cluster] = 1\n",
    "\n",
    "# sort the cluster_dict in non-ascending order\n",
    "sorted_tuples = sorted(cluster_dict.items(), key=lambda item: item[1], reverse = True)\n",
    "sorted_dict = {k: v for k, v in sorted_tuples}\n",
    "\n",
    "# get top k clusters list\n",
    "top_k_cluster = []\n",
    "i = 0\n",
    "for cluster, cardinality in sorted_dict.items():\n",
    "    if i < k:\n",
    "        top_k_cluster.append([cluster, cardinality])\n",
    "    else:\n",
    "        break    \n",
    "    i = i + 1\n",
    "\n",
    "# generate top k clusters graph\n",
    "top_k_cluster_index = []\n",
    "top_k_cluster_cardinality = []\n",
    "\n",
    "for i in range(0, k):\n",
    "    top_k_cluster_index.append(str(top_k_cluster[i][0]))\n",
    "    top_k_cluster_cardinality.append(top_k_cluster[i][1])\n",
    "\n",
    "plt.figure(figsize=(15,10))\n",
    "width = 0.4\n",
    "\n",
    "plt.bar(top_k_cluster_index, top_k_cluster_cardinality, width = width, color='#8ca8f5', label='Top clusters')\n",
    "\n",
    "plt.xlabel('Cluster index', fontsize = 14)\n",
    "plt.ylabel('Cardinality',fontsize = 14)\n",
    "plt.title('Top '+ str(k) +' clusters', fontweight='bold', fontsize=20)\n",
    "\n",
    "# save the figure\n",
    "plt.savefig('Top ' + str(k) + ' clusters', dpi=300, bbox_inches='tight')\n",
    "\n",
    "plt.show()"
   ]
  }
 ],
 "metadata": {
  "kernelspec": {
   "display_name": "Python 3",
   "language": "python",
   "name": "python3"
  },
  "language_info": {
   "codemirror_mode": {
    "name": "ipython",
    "version": 3
   },
   "file_extension": ".py",
   "mimetype": "text/x-python",
   "name": "python",
   "nbconvert_exporter": "python",
   "pygments_lexer": "ipython3",
   "version": "3.7.7"
  }
 },
 "nbformat": 4,
 "nbformat_minor": 5
}
