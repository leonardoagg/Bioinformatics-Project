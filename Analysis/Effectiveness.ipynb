{
 "cells": [
  {
   "cell_type": "code",
   "execution_count": 1,
   "metadata": {},
   "outputs": [],
   "source": [
    "# libraries\n",
    "import time\n",
    "from random import seed\n",
    "from random import randint\n",
    "import csv\n",
    "import matplotlib.pyplot as plt\n",
    "import numpy as np"
   ]
  },
  {
   "cell_type": "markdown",
   "metadata": {},
   "source": [
    "# Effectiveness analysis\n",
    "Given LiME_binning clustering and the classification output, the goal of this notebook is assessing in what extent our procedure of reassignment (Total and/or Partial standard or zero) can be effective.\n"
   ]
  },
  {
   "cell_type": "code",
   "execution_count": 2,
   "metadata": {},
   "outputs": [],
   "source": [
    "# path to classifier output\n",
    "classifier_path = \"../../../Bio_Project/SimDataset/classifiers_results/strex_kraken1_250000.res\"\n",
    "\n",
    "# classifier name\n",
    "classifier_name = 'Kraken1'\n",
    "\n",
    "# path to dataset\n",
    "dataset_path = \"../../../Bio_Project/SimDataset/reads_datasets/all_250000_1.fq\"\n",
    "\n",
    "# dataset file format: True if fasta, False if fastq\n",
    "isFasta = False\n",
    "\n",
    "# path to output file of binning procedure\n",
    "clusters_path = \"../../../LiME_binning results/paired/all_250000_1+RC.fasta.a40.t40.txt\""
   ]
  },
  {
   "cell_type": "markdown",
   "metadata": {},
   "source": [
    "### Utility functions"
   ]
  },
  {
   "cell_type": "code",
   "execution_count": 3,
   "metadata": {},
   "outputs": [],
   "source": [
    "def load_classifier_result(path):\n",
    "\n",
    "    classification = open(path, 'r')\n",
    "    classifier_results = {}\n",
    "\n",
    "    for line in classification:\n",
    "        col = []\n",
    "        for j in range(0, len(line.split())):\n",
    "            col.append(line.split()[j])\n",
    "        \n",
    "        classifier_results[col[0]] = col[1]\n",
    "\n",
    "    classification.close()\n",
    "\n",
    "    return classifier_results \n",
    "\n",
    "\n",
    "def load_dataset(path, datset_format : bool):\n",
    "\n",
    "    dataset = open(path, \"r\")\n",
    "    dataset_lines = []\n",
    "\n",
    "    if (datset_format):\n",
    "        divisor = 2\n",
    "    else:\n",
    "        divisor = 4\n",
    "\n",
    "    index = 0\n",
    "    for line in dataset:\n",
    "        if (index%divisor==0):\n",
    "            read_id = line.split()[0]\n",
    "            dataset_lines.append(read_id[1: len(read_id)-2])\n",
    "        index = index + 1\n",
    "\n",
    "    dataset.close()\n",
    "\n",
    "    return dataset_lines\n",
    "\n",
    "\n",
    "def load_clusters_result(path):\n",
    "\n",
    "    clusters = open(path, \"r\")\n",
    "    clusters_list = []\n",
    "\n",
    "    for group in clusters:\n",
    "        clusters_list.append(int(group))\n",
    "\n",
    "    clusters.close()\n",
    "\n",
    "    return clusters_list\n",
    "\n",
    "\n",
    "# clustering is a list of cluster index, one for each read of the dataset\n",
    "# dataset is a list of read\n",
    "# return a dict of (cluster, list of reads belonging to the cluster) pairs\n",
    "def clustering_dict(clustering, dataset):\n",
    "    \n",
    "    clustering_dict = {}\n",
    "    \n",
    "    for line in range(len(dataset)):\n",
    "        \n",
    "        if clustering[line] not in clustering_dict.keys():\n",
    "            \n",
    "            clustering_dict[clustering[line]] = []\n",
    "            clustering_dict[clustering[line]].append(dataset[line])\n",
    "            \n",
    "        else:\n",
    "            \n",
    "            clustering_dict[clustering[line]].append(dataset[line])\n",
    "        \n",
    "    return clustering_dict\n",
    "\n",
    "\n",
    "# clustering_dict is a dictionary of (cluster, list of reads belonging to the cluster) pairs\n",
    "# classifier is a dict of (read, label) pairs\n",
    "# return a dictionary of (cluster, list of labels of the reads beloging to the cluster) pairs\n",
    "def label_clustering(clustering_dict, classifier):\n",
    "    \n",
    "    label_clustering_dict = {}\n",
    "    \n",
    "    for cluster, read_list in clustering_dict.items():\n",
    "        \n",
    "        label_clustering_dict[cluster] = []\n",
    "        \n",
    "        for read in read_list:\n",
    "            \n",
    "            if read in classifier.keys():\n",
    "                \n",
    "                label_clustering_dict[cluster].append(classifier[read])\n",
    "                \n",
    "            else:\n",
    "                \n",
    "                label_clustering_dict[cluster].append('0')\n",
    "    \n",
    "    return label_clustering_dict\n",
    "\n",
    "\n",
    "# label_clustering is a dictionary of (cluster, list of labels of the reads beloging to the cluster) pairs\n",
    "# return a list of [cluster, cardinality] pairs such that alle labels in cluster are equal to '0' \n",
    "# and cardinality is the number of labels (or equivalently reads) in the cluster\n",
    "def patological_cluster(label_clustering):\n",
    "    \n",
    "    patological_cluster_list = []\n",
    "    \n",
    "    for cluster, label_list in label_clustering.items():\n",
    "        \n",
    "        patological = True # boolean to inform wheter the cluster in examination is patological or not\n",
    "\n",
    "        for label in label_list:\n",
    "            \n",
    "            if label != '0': # found one element different from zero in the cluster in examination --> the cluster is not patological                  \n",
    "                patological = False\n",
    "                break\n",
    "        \n",
    "        if patological:\n",
    "            patological_cluster_list.append([cluster, len(label_list)])\n",
    "    \n",
    "    \n",
    "    return patological_cluster_list\n",
    "\n",
    "\n",
    "def number_patological_read(patological_cluster_list):\n",
    "    \n",
    "    number_patological_read = 0\n",
    "    \n",
    "    for cluster in patological_cluster_list:\n",
    "        number_patological_read = number_patological_read + cluster[1]\n",
    "    \n",
    "    return number_patological_read\n",
    "\n",
    "\n",
    "# dict --> (class, occurences)\n",
    "def frequency_search(cluster):\n",
    "    \n",
    "    label_dict = {}\n",
    "\n",
    "    for label in cluster:\n",
    "\n",
    "        if label in list(label_dict):\n",
    "            label_dict[label] = label_dict[label] + 1\n",
    "            \n",
    "        else:\n",
    "            # if it does not exist, it's automatically created\n",
    "            label_dict[label] = 1\n",
    "\n",
    "    return label_dict\n",
    "\n",
    "\n",
    "# It takes in input a dictionary that contains {label: frequency} pairs.\n",
    "# Returns a pair {label: frequency} with maximal frequency.\n",
    "# Ties broken randomly.\n",
    "def get_max_label(label_dict): \n",
    "    \n",
    "    seed(1)\n",
    "    ties = False\n",
    "    zero_ties = False\n",
    "    \n",
    "    candidates = [] # list of max label candidates\n",
    "    \n",
    "    max_frequency = 0\n",
    "    \n",
    "    for label, frequency in label_dict.items(): # find max frequency\n",
    "        \n",
    "        if frequency > max_frequency:\n",
    "            max_frequency = frequency\n",
    "    \n",
    "    for label, frequency in label_dict.items(): # find labels with frequency equals to max frequency\n",
    "        \n",
    "        if frequency == max_frequency:\n",
    "            candidates.append(label)\n",
    "    \n",
    "    # check if ties occur\n",
    "    if len(candidates) > 1:\n",
    "        # check if ties occur and '0' is a potencial candidate to become the max label of the cluster\n",
    "        if '0' in candidates:\n",
    "            zero_ties = True\n",
    "        \n",
    "        ties = True\n",
    "\n",
    "    value = randint(0, len(candidates) - 1)  # choose randomly the label with max frequency if there are multiple candidate labels\n",
    "\n",
    "    max_label = candidates[value]\n",
    "         \n",
    "    return [max_label, max_frequency, ties, zero_ties]"
   ]
  },
  {
   "cell_type": "markdown",
   "metadata": {},
   "source": [
    "### Load the needed files for the analysis"
   ]
  },
  {
   "cell_type": "code",
   "execution_count": 4,
   "metadata": {},
   "outputs": [],
   "source": [
    "# load classifier output\n",
    "classifier = load_classifier_result(classifier_path)\n",
    "\n",
    "# load dataset\n",
    "dataset = load_dataset(dataset_path, isFasta)\n",
    "\n",
    "# load binning output\n",
    "clustering = load_clusters_result(clusters_path) "
   ]
  },
  {
   "cell_type": "markdown",
   "metadata": {},
   "source": [
    "### Pathological clusters and pathological reads"
   ]
  },
  {
   "cell_type": "code",
   "execution_count": 5,
   "metadata": {},
   "outputs": [
    {
     "name": "stdout",
     "output_type": "stream",
     "text": [
      "Percentage of pathological clusters:  5.258509460630648 %\n",
      "Percentage of pathological reads:  2.108064 %\n"
     ]
    }
   ],
   "source": [
    "# get cluster dict\n",
    "cluster_dict = clustering_dict(clustering, dataset)\n",
    "\n",
    "# get cluster label dict\n",
    "cluster_label_dict = label_clustering(cluster_dict, classifier)\n",
    "\n",
    "# get patological clusters\n",
    "patological_cluster_list = patological_cluster(cluster_label_dict)\n",
    "# print percentage of patological clusters (must be smaller than number of patological reads of course)\n",
    "print(\"Percentage of pathological clusters: \", len(patological_cluster_list)/len(cluster_dict)*100, \"%\")\n",
    "\n",
    "# get number of patological reads\n",
    "num_patological_read = number_patological_read(patological_cluster_list)\n",
    "print(\"Percentage of pathological reads: \", num_patological_read/len(dataset)*100, \"%\")"
   ]
  },
  {
   "cell_type": "markdown",
   "metadata": {},
   "source": [
    "### Ties and zero ties"
   ]
  },
  {
   "cell_type": "code",
   "execution_count": 6,
   "metadata": {},
   "outputs": [
    {
     "name": "stdout",
     "output_type": "stream",
     "text": [
      "Percentage of clusters with ties in max label:  4.064083249343982 %\n",
      "Percentage of clusters with ties in max label with '0' as candidate with respect to clusters with ties:  9.661085855785934 %\n",
      "Percentage of clusters with ties in max label with '0' as candidate:  0.3926345719697368 %\n"
     ]
    }
   ],
   "source": [
    "max_label_per_cluster_list = []\n",
    "\n",
    "num_ties = 0\n",
    "num_zero_ties = 0\n",
    "\n",
    "for cluster, label_list in cluster_label_dict.items():\n",
    "\n",
    "        # return a dictionary with {label: frequency} pairs that appear in the examinated cluster\n",
    "        lab_dict = frequency_search(label_list)\n",
    "        \n",
    "        max_label = get_max_label(lab_dict)\n",
    "\n",
    "        # check if a tie happen\n",
    "        if max_label[2]:\n",
    "            # check if it is a zero tie\n",
    "            if max_label[3]: \n",
    "                num_zero_ties = num_zero_ties + 1\n",
    "            \n",
    "            num_ties = num_ties + 1\n",
    "    \n",
    "        # append the quartet [cluster, max label, max frequency, number of total reads in the cluster]\n",
    "        max_label_per_cluster_list.append([cluster, max_label[0], max_label[1], len(label_list)])\n",
    "\n",
    "print(\"Percentage of clusters with ties in max label: \", num_ties/len(cluster_dict)*100, \"%\")\n",
    "print(\"Percentage of clusters with ties in max label with '0' as candidate with respect to clusters with ties: \", num_zero_ties/num_ties*100, \"%\")\n",
    "print(\"Percentage of clusters with ties in max label with '0' as candidate: \", num_zero_ties/len(cluster_dict)*100, \"%\")"
   ]
  },
  {
   "cell_type": "markdown",
   "metadata": {},
   "source": [
    "### Majority zero clusters, zero and non zero reads"
   ]
  },
  {
   "cell_type": "code",
   "execution_count": 7,
   "metadata": {},
   "outputs": [
    {
     "name": "stdout",
     "output_type": "stream",
     "text": [
      "num_zero_read:  252535\n",
      "majority_zero_clusters:  3172\n",
      "num_non_zero_read:  84343\n"
     ]
    }
   ],
   "source": [
    "majority_zero_clusters = 0 # number of clusters where the most frequent label zero is zero and \n",
    "                           # then if we apply the total reassignment all reads will be labelled with class '0'\n",
    "                           # NOTE THAT I don't take in account patological clusters but only those that contain at least one read with label different from '0'\n",
    "        \n",
    "num_zero_read = 0 # overall number of reads classified with '0' label among these clusters\n",
    "\n",
    "num_non_zero_read = 0 # overall number of reads that will be labelled with label '0' but \n",
    "                      # that were classified with a label different from '0' before TOTAL reassignment\n",
    "\n",
    "patological_cluster_list_no_length = []\n",
    "patological_cluster_dict_no_length = {}\n",
    "\n",
    "for element in patological_cluster_list:\n",
    "    patological_cluster_dict_no_length[element[0]] = element[0]\n",
    "\n",
    "for element in max_label_per_cluster_list:\n",
    "    \n",
    "    if element[1] == '0' and element[0] not in patological_cluster_dict_no_length.keys():\n",
    "        \n",
    "        majority_zero_clusters = majority_zero_clusters + 1 \n",
    "        num_zero_read = num_zero_read + element[2]\n",
    "        num_non_zero_read = num_non_zero_read + element[3] - element[2]\n",
    "\n",
    "        # for debugging\n",
    "        if element[3] == element[2]:\n",
    "            print(\"The code doesn't work properly: PATOLOGICAL clusters are being considered!!\")\n",
    "\n",
    "print(\"num_zero_read: \", num_zero_read)\n",
    "print(\"majority_zero_clusters: \", majority_zero_clusters)\n",
    "print(\"num_non_zero_read: \" , num_non_zero_read)"
   ]
  },
  {
   "cell_type": "markdown",
   "metadata": {},
   "source": [
    "### Partial vs Total reassignment (standard version)"
   ]
  },
  {
   "cell_type": "code",
   "execution_count": 8,
   "metadata": {},
   "outputs": [
    {
     "name": "stdout",
     "output_type": "stream",
     "text": [
      "Number of reads with label zero after TOTAL alignment procedure:  402755\n",
      "Number of reads with label zero after PARTIAL alignment procedure:  318412\n",
      "Difference in non labelled reads between TOTAL and PARTIAL :  84343\n"
     ]
    }
   ],
   "source": [
    "# number of reads with label zero after TOTAL reassignment procedure\n",
    "non_lab_read_tot = num_non_zero_read + num_patological_read + num_zero_read\n",
    "print(\"Number of reads with label zero after TOTAL alignment procedure: \", non_lab_read_tot)\n",
    "\n",
    "# number of reads with label zero after PARTIAL reassignment procedure\n",
    "non_lab_read_par = num_zero_read + num_patological_read\n",
    "print(\"Number of reads with label zero after PARTIAL alignment procedure: \", non_lab_read_par)\n",
    "\n",
    "# difference in labelled reads\n",
    "print(\"Difference in non labelled reads between TOTAL and PARTIAL : \", non_lab_read_tot - non_lab_read_par)"
   ]
  },
  {
   "cell_type": "markdown",
   "metadata": {},
   "source": [
    "### Output file generation"
   ]
  },
  {
   "cell_type": "markdown",
   "metadata": {},
   "source": [
    "Running the cell below will generate a .csv file containing the results of the analysis performed. <br>\n",
    "The file is called: <b><i>classifier_name</i>_effectiveness</b>, where 'classifier_name' depends on the value specified in the begginning of the notebook."
   ]
  },
  {
   "cell_type": "code",
   "execution_count": 9,
   "metadata": {},
   "outputs": [],
   "source": [
    "num_cluster = len(cluster_dict)\n",
    "patological_cluster = len(patological_cluster_list)\n",
    "num_read = len(dataset)\n",
    "patological_read = num_patological_read\n",
    "zero_cluster = majority_zero_clusters\n",
    "zero_read= num_zero_read\n",
    "non_zero_read = num_non_zero_read\n",
    "ties = num_ties\n",
    "zero_ties = num_zero_ties\n",
    "\n",
    "outfile = 'output files/' + classifier_name + '_effectiveness.csv'\n",
    "with open(outfile, 'w', newline='') as file:\n",
    "    writer = csv.writer(file)\n",
    "    writer.writerow([\"Parameter\", \"Value\"])\n",
    "    writer.writerow([\"classifier\", str(classifier_name)])\n",
    "    writer.writerow([\"num_cluster\", num_cluster])\n",
    "    writer.writerow([\"patological_cluster\", patological_cluster])\n",
    "    writer.writerow([\"num_reads\", num_read])\n",
    "    writer.writerow([\"patological_read\", patological_read])\n",
    "    writer.writerow([\"zero_cluster\", zero_cluster])\n",
    "    writer.writerow([\"zero_reads\", zero_read])\n",
    "    writer.writerow([\"non_zero_read\", non_zero_read])\n",
    "    writer.writerow([\"ties\", ties])\n",
    "    writer.writerow([\"zero_ties\", zero_ties])"
   ]
  },
  {
   "cell_type": "markdown",
   "metadata": {},
   "source": [
    "## Effectiveness plot generation"
   ]
  },
  {
   "cell_type": "code",
   "execution_count": 10,
   "metadata": {},
   "outputs": [],
   "source": [
    "# number of clusters to plot, largest k clusters will be taken into account\n",
    "k = 20"
   ]
  },
  {
   "cell_type": "code",
   "execution_count": 11,
   "metadata": {},
   "outputs": [
    {
     "data": {
      "image/png": "[encoded data removed]",
      "text/plain": [
       "<Figure size 1440x720 with 1 Axes>"
      ]
     },
     "metadata": {
      "needs_background": "light"
     },
     "output_type": "display_data"
    }
   ],
   "source": [
    "## cluster_dict is a dict of {cluster : [read_ids]} \n",
    "## cluster_label_dict id a dict of {cluster : [labels]}\n",
    "## max_label_per_cluster_list is a list of quartet [cluster_index, max_label, max_frequency, cluster length]\n",
    "\n",
    "cluster_cardinality = {}\n",
    "\n",
    "for cluster, read_list in cluster_dict.items(): \n",
    "    cluster_cardinality[cluster] = len(read_list)\n",
    "\n",
    "sorted_tuples = sorted(cluster_cardinality.items(), key=lambda item: item[1], reverse = True)\n",
    "sorted_dict = {k: v for k, v in sorted_tuples}\n",
    "\n",
    "top_k_cluster = {}\n",
    "i = 0\n",
    "for cluster, cardinality in sorted_dict.items():    \n",
    "    if i <= k:       \n",
    "        top_k_cluster[cluster] = cardinality   \n",
    "    else:\n",
    "        break        \n",
    "    i = i + 1\n",
    "    \n",
    "#print(top_k_cluster)\n",
    "\n",
    "top_cluster_info = []\n",
    "for cluster, label_list in cluster_label_dict.items():\n",
    "    \n",
    "    if cluster in top_k_cluster.keys():    \n",
    "        \n",
    "        # return a dictionary with {label: frequency} pairs that appear in the examinated cluster\n",
    "        lab_dict = frequency_search(label_list)\n",
    "        \n",
    "        max_label = get_max_label(lab_dict) \n",
    "        \n",
    "        if max_label[0] == '0':\n",
    "            top_cluster_info.append([cluster, max_label[0], max_label[1], len(label_list), True])\n",
    "            \n",
    "        else:\n",
    "            top_cluster_info.append([cluster, max_label[0], max_label[1], len(label_list), False])\n",
    "            \n",
    "top_cluster_info = sorted(top_cluster_info, key=lambda x: x[3], reverse=True)\n",
    "\n",
    "#for element in top_cluster_info:\n",
    "   #print(element)\n",
    "\n",
    "clusters = []\n",
    "max_labels = []\n",
    "max_frequency = []\n",
    "cluster_length = []\n",
    "zero_cluster = []\n",
    "\n",
    "for i in range(0, k):\n",
    "    clusters.append(str(top_cluster_info[i][0]))\n",
    "    max_labels.append(top_cluster_info[i][1])\n",
    "    max_frequency.append(top_cluster_info[i][2])\n",
    "    cluster_length.append(top_cluster_info[i][3])\n",
    "    \n",
    "    if top_cluster_info[i][4]:\n",
    "        zero_cluster.append(top_cluster_info[i][2])\n",
    "    \n",
    "    else:\n",
    "        zero_cluster.append(0)\n",
    "\n",
    "width = 0.50      # the width of the bars: can also be len(x) sequence\n",
    "\n",
    "fig, ax = plt.subplots()\n",
    "\n",
    "ax.bar(clusters, cluster_length, width, label='Cluster Cardinality', color='#A9D981')\n",
    "ax.bar(clusters, max_frequency, width, label='Max Label Cardinality', color='#D4A2E2')\n",
    "ax.bar(clusters, zero_cluster, width, label='Max Label Cardinality where Max Label = \\'0\\'', color='#5CCCAC')\n",
    "\n",
    "plt.ylim(0, round(max(cluster_length) +  max(cluster_length)/100))\n",
    "plt.yticks(np.arange(0, round(max(cluster_length) +  max(cluster_length)/100), round(max(cluster_length)/10)))\n",
    "\n",
    "fig.set_size_inches(20, 10)\n",
    "\n",
    "ax.set_ylabel('number of reads', fontsize = 14)\n",
    "ax.set_xlabel('cluster index', fontsize = 14)\n",
    "ax.set_title('Top ' + str(k) + ' Clusters', fontsize = 20)\n",
    "ax.legend(fontsize = 14)\n",
    "\n",
    "fig.savefig('output files/' + classifier_name + '-EffectivenssGraph.png')\n",
    "\n",
    "plt.show()"
   ]
  }
 ],
 "metadata": {
  "kernelspec": {
   "display_name": "Python 3",
   "language": "python",
   "name": "python3"
  },
  "language_info": {
   "codemirror_mode": {
    "name": "ipython",
    "version": 3
   },
   "file_extension": ".py",
   "mimetype": "text/x-python",
   "name": "python",
   "nbconvert_exporter": "python",
   "pygments_lexer": "ipython3",
   "version": "3.7.7"
  }
 },
 "nbformat": 4,
 "nbformat_minor": 4
}
